{
 "cells": [
  {
   "cell_type": "code",
   "execution_count": null,
   "id": "f47aad52",
   "metadata": {},
   "outputs": [],
   "source": [
    "import math\n",
    "import numpy as np\n",
    "import matplotlib.pyplot as plt\n",
    "from numpy import linalg as LA\n",
    "\n",
    "from scipy.integrate import solve_ivp\n",
    "from scipy import integrate\n",
    "from scipy.linalg import null_space\n",
    "\n",
    "from scipy.optimize import fsolve\n",
    "from scipy.integrate import solve_bvp\n",
    "\n",
    "import pickle\n",
    "import pandas as pd\n",
    "import cmath\n",
    "\n",
    "from itertools import chain"
   ]
  },
  {
   "cell_type": "code",
   "execution_count": null,
   "id": "b700b58e",
   "metadata": {},
   "outputs": [],
   "source": [
    "from concurrent.futures import ProcessPoolExecutor\n",
    "from mpl_toolkits.mplot3d import Axes3D"
   ]
  },
  {
   "cell_type": "code",
   "execution_count": null,
   "id": "bbcdaabb",
   "metadata": {},
   "outputs": [],
   "source": [
    "%matplotlib notebook"
   ]
  },
  {
   "cell_type": "code",
   "execution_count": null,
   "id": "93bd14ec",
   "metadata": {},
   "outputs": [],
   "source": [
    "# length\n",
    "L = 1.7\n",
    "\n",
    "# orbital number\n",
    "l = 2\n",
    "\n",
    "# coupling srength left/right\n",
    "t_L = 0.7\n",
    "t_R = t_L\n",
    "\n",
    "# effective mass\n",
    "mx = 9\n",
    "\n",
    "Delta = 1"
   ]
  },
  {
   "cell_type": "code",
   "execution_count": null,
   "id": "c709bb6d",
   "metadata": {},
   "outputs": [],
   "source": [
    "# SOI and ZF\n",
    "\n",
    "b_x = 0.2\n",
    "b_y = 0.0\n",
    "b_z = 0.2\n",
    "\n",
    "gamma_SO = 0.2"
   ]
  },
  {
   "cell_type": "code",
   "execution_count": null,
   "id": "067bbc9d",
   "metadata": {},
   "outputs": [],
   "source": [
    "phi_0 = np.linspace(0, 2*np.pi, num=101)\n",
    "phi_0[0] = 0.001\n",
    "phi_0[-1] -= 0.001\n",
    "phi_0[50] += 0.001"
   ]
  },
  {
   "cell_type": "code",
   "execution_count": null,
   "id": "ad960739",
   "metadata": {},
   "outputs": [],
   "source": [
    "lambda_coupl = 1 # 0.1 # Andreev-continuum coupling rate\n",
    "damping_param = 0.1 # 0.01\n",
    "Omega = 0.01\n",
    "\n",
    "T_ferm = 0.5\n",
    "T_bos = 0.2\n",
    "\n",
    "alpha_0 = 0.001 # 0.0001\n",
    "omega_c = 1"
   ]
  },
  {
   "cell_type": "code",
   "execution_count": null,
   "id": "cdc97e93",
   "metadata": {},
   "outputs": [],
   "source": [
    "def bose_distrib(x, T):\n",
    "    \"\"\" Bose distribution function that handles large x/T to avoid overflow in the exponent \"\"\"  \n",
    "\n",
    "    y = x / T\n",
    "    cutoff = 500.0  # cutoff to avoid overflow in exp\n",
    "    \n",
    "    if y >= 0:\n",
    "        if y > cutoff:\n",
    "            return 0.0  # for large y, n_B -> 0\n",
    "        else:\n",
    "            return 1.0 / (np.exp(y)-1)  \n",
    "    else:\n",
    "        y = -y\n",
    "        if y > cutoff:\n",
    "            return -1.0  # for large negative y, expression goes to -1 (since n_B -> 0)\n",
    "        else:\n",
    "            return -1.0 - 1.0 / (np.exp(y)-1)"
   ]
  },
  {
   "cell_type": "code",
   "execution_count": null,
   "id": "4eff8230",
   "metadata": {},
   "outputs": [],
   "source": [
    "def fermi_distrib(x, T):\n",
    "    \"\"\" Fermi distribution function that handles large x/T to avoid overflow in the exponent \"\"\"    \n",
    "    \n",
    "    y = x / T\n",
    "    cutoff = 500.0  # cutoff to avoid overflow in exp\n",
    "    \n",
    "    if y > cutoff:\n",
    "        return 0.0  # for large positive y, 1/(exp(y)+1) -> 0\n",
    "    elif y < -cutoff:\n",
    "        return 1.0  # for large negative y, 1/(exp(y)+1) -> 1\n",
    "    else:\n",
    "        return 1.0 / (np.exp(y) + 1.0)"
   ]
  },
  {
   "cell_type": "code",
   "execution_count": null,
   "id": "dccc0377",
   "metadata": {},
   "outputs": [],
   "source": [
    "# spectral density function\n",
    "\n",
    "def spectral_density(x, lambda_coupl, alpha_0, damping_param, Omega, omega_c):\n",
    "    \n",
    "    J = lambda_coupl**2 * damping_param * (1/((x - Omega)**2 + damping_param**2/4) - \\\n",
    "                                                   1/((x + Omega)**2 + damping_param**2/4))\n",
    "    \n",
    "    J_ohm = alpha_0 * x * np.exp(-np.abs(x)/omega_c)\n",
    "    \n",
    "    return J + J_ohm"
   ]
  },
  {
   "cell_type": "markdown",
   "id": "59fd2c7f",
   "metadata": {},
   "source": [
    "### Finding free dot eigenenergies and eigenfunctions -  hopping parameters"
   ]
  },
  {
   "cell_type": "code",
   "execution_count": null,
   "id": "3774240c",
   "metadata": {},
   "outputs": [],
   "source": [
    "def chi_n_sigma(x, n, sigma):\n",
    "    \n",
    "    q = mx*gamma_SO\n",
    "    k_n = n*np.pi/L\n",
    "    \n",
    "    cos_n = (k_n + sigma*q)/np.sqrt(2*(k_n**2 + q**2))\n",
    "    sin_n = (k_n - sigma*q)/np.sqrt(2*(k_n**2 + q**2))\n",
    "    \n",
    "    f = np.exp(-1j*sigma*q*(x - L/2)) * (cos_n * np.exp(1j*k_n*(x-L/2)) + \\\n",
    "                                   sin_n * np.exp(-1j*k_n*(x-L/2)))\n",
    "    \n",
    "    return f/np.sqrt(L)"
   ]
  },
  {
   "cell_type": "code",
   "execution_count": null,
   "id": "92f5671c",
   "metadata": {},
   "outputs": [],
   "source": [
    "x_plot = np.linspace(-L/2, L/2, 100)\n",
    "\n",
    "plt.xlabel(\"x\")\n",
    "plt.ylabel(\"y\")\n",
    "\n",
    "\n",
    "\n",
    "plt.plot(x_plot, np.real(chi_n_sigma(x_plot, 3, -1)))\n",
    "plt.plot(x_plot, np.imag(chi_n_sigma(x_plot, 3, -1)))\n",
    "\n",
    "plt.grid()"
   ]
  },
  {
   "cell_type": "code",
   "execution_count": null,
   "id": "4a487e58",
   "metadata": {},
   "outputs": [],
   "source": [
    "def cos_n_s(n, sigma):\n",
    "    k_n = n*np.pi/L\n",
    "    q = mx*gamma_SO\n",
    "    \n",
    "    cos_n = (k_n + sigma*q)/np.sqrt(2*(k_n**2 + q**2))\n",
    "    \n",
    "    return cos_n   "
   ]
  },
  {
   "cell_type": "code",
   "execution_count": null,
   "id": "d424fe07",
   "metadata": {},
   "outputs": [],
   "source": [
    "def J_mn_sigma(m, n, sigma):\n",
    "    \n",
    "    q = mx*gamma_SO\n",
    "    k_n = n*np.pi/L\n",
    "    k_m = m*np.pi/L\n",
    "    \n",
    "    f_s_mn = cos_n_s(n, sigma) * cos_n_s(m, -sigma) / (k_n - k_m - 2*q*sigma) -\\\n",
    "             cos_n_s(n, -sigma) * cos_n_s(m, sigma) / (k_n - k_m + 2*q*sigma) +\\\n",
    "             cos_n_s(n, sigma) * cos_n_s(m, sigma) / (k_n + k_m - 2*q*sigma) -\\\n",
    "             cos_n_s(n, -sigma) * cos_n_s(m, -sigma) / (k_n + k_m + 2*q*sigma)\n",
    "    \n",
    "    if (-1)**(n+m) == 1:\n",
    "        J = 2*b_x * f_s_mn / L * (-sigma)*np.sin(q*L)\n",
    "    if (-1)**(n+m) == -1:\n",
    "        J = 2*b_x * f_s_mn / L * (-1j)*np.cos(q*L)\n",
    "    \n",
    "    return J"
   ]
  },
  {
   "cell_type": "code",
   "execution_count": null,
   "id": "ca287b60",
   "metadata": {},
   "outputs": [],
   "source": [
    "N = 50\n",
    "n_arr = np.arange(1, N + 1)\n",
    "q = mx*gamma_SO\n",
    "\n",
    "k_n = n_arr * np.pi / L\n",
    "eps_n = k_n**2 / (2 * mx) - mx*gamma_SO**2/2\n",
    "m_one_arr = (-1)**n_arr\n",
    "\n",
    "xi_n = np.sqrt(2/L) * k_n / np.sqrt(k_n**2 + (mx*gamma_SO)**2)\n",
    "\n",
    "J_min = np.zeros((N, N), dtype='complex')\n",
    "J_pl = np.zeros_like(J_min)\n",
    "\n",
    "for n in range(N):\n",
    "    for m in range(N):\n",
    "        J_min[n, m] = J_mn_sigma(n+1, m+1, -1)\n",
    "        J_pl[m, n] = np.conjugate(J_min[n, m])       "
   ]
  },
  {
   "cell_type": "markdown",
   "id": "61a99d05",
   "metadata": {},
   "source": [
    "#### We consider transport through 2 dot levels - they get split intp 4 levels"
   ]
  },
  {
   "cell_type": "code",
   "execution_count": null,
   "id": "c6131cb4",
   "metadata": {},
   "outputs": [],
   "source": [
    "H_2 = np.zeros((2*N, 2*N), dtype='complex')\n",
    "\n",
    "diagonal_elements = np.array([(eps + b_z, eps - b_z) for eps in eps_n]).flatten()\n",
    "H_diag = np.diag(diagonal_elements)\n",
    "\n",
    "for n in range(N):\n",
    "    for m in range(N):\n",
    "        H_2[2*n, 2*m+1] = J_min[n, m]\n",
    "        H_2[2*n+1, 2*m] = J_pl[n, m]\n",
    "        \n",
    "H_2 += H_diag\n",
    "E_2, Psi_2 = LA.eigh(H_2)\n",
    "print(E_2[0:4])\n",
    "\n",
    "for i in range(2*N):\n",
    "    sum_i = np.real(np.sum(Psi_2[:, i]**2))\n",
    "    Psi_2[:, i] /= sum_i\n",
    "    \n",
    "even_rows = Psi_2[::2, :]\n",
    "u = np.sum(xi_n[:, np.newaxis] * even_rows, axis=0)\n",
    "t_L_up = np.exp(1j*L*q) * np.sum(m_one_arr[:, np.newaxis] * xi_n[:, np.newaxis] * even_rows, axis=0)\n",
    "\n",
    "\n",
    "odd_rows = Psi_2[1::2, :]\n",
    "v = np.sum(xi_n[:, np.newaxis] * odd_rows, axis=0)\n",
    "t_L_down = np.exp(-1j*L*q) * np.sum(m_one_arr[:, np.newaxis] * xi_n[:, np.newaxis] * odd_rows, axis=0)"
   ]
  },
  {
   "cell_type": "code",
   "execution_count": null,
   "id": "cf99c79f",
   "metadata": {},
   "outputs": [],
   "source": [
    "Gamma_L = np.zeros((4, 4), dtype='complex')\n",
    "Gamma_R = np.zeros_like(Gamma_L)\n",
    "F_R = np.zeros_like(Gamma_L)\n",
    "F_L = np.zeros_like(Gamma_L)\n",
    "\n",
    "for mu in range(4):\n",
    "    for nu in range(4):\n",
    "        Gamma_R[mu, nu] = np.conjugate(u[mu])*u[nu] + np.conjugate(v[mu])*v[nu]\n",
    "        Gamma_L[mu, nu] = u[mu]*np.conjugate(u[nu]) + v[mu]*np.conjugate(v[nu])\n",
    "    \n",
    "        F_R[mu, nu] = u[mu]*v[nu] - u[nu]*v[mu]\n",
    "        F_L[mu, nu] = np.conjugate(u[mu]*v[nu] - u[nu]*v[mu])  \n",
    "\n",
    "Gamma_L *= t_L**2\n",
    "Gamma_R *= t_L**2\n",
    "F_L *= t_L**2\n",
    "F_R *= t_L**2"
   ]
  },
  {
   "cell_type": "markdown",
   "id": "b81ff4d2",
   "metadata": {},
   "source": [
    "### Finding Andreev states"
   ]
  },
  {
   "cell_type": "code",
   "execution_count": null,
   "id": "17816b81",
   "metadata": {},
   "outputs": [],
   "source": [
    "def G_inv(x, i):\n",
    "    \n",
    "    s_L = 1\n",
    "    s_R = -1\n",
    "    zero_m = np.zeros_like(Gamma_L)\n",
    "    \n",
    "    \n",
    "    Lambda = -1 / cmath.sqrt(Delta**2 - x**2) \\\n",
    "            * (x * np.block([[(Gamma_L + Gamma_R), zero_m], [zero_m, np.conjugate(Gamma_L + Gamma_R)]]) \\\n",
    "            - Delta * np.block([[zero_m, np.exp(-1j * s_L * phi_0[i]/2) * np.conjugate(np.transpose(F_L))], \\\n",
    "                                [np.exp(1j * s_L * phi_0[i]/2) * F_L, zero_m]]) \\\n",
    "            - Delta * np.block([[zero_m, np.exp(-1j * s_R * phi_0[i]/2) * np.conjugate(np.transpose(F_R))], \\\n",
    "                                [np.exp(1j * s_R * phi_0[i]/2) * F_R, zero_m]]))\n",
    "    \n",
    "    G_inv = x * np.eye(4*l) - np.block([[np.diag(E_2[0:4]), zero_m], [zero_m, -np.diag(E_2[0:4])]]) - Lambda\n",
    "    \n",
    "    return LA.det(G_inv)   "
   ]
  },
  {
   "cell_type": "code",
   "execution_count": null,
   "id": "b7487ad9",
   "metadata": {},
   "outputs": [],
   "source": [
    "roots = np.zeros((len(phi_0), 4*l))\n",
    "\n",
    "for i in range(len(phi_0)):\n",
    "    roots[i, 0] = fsolve(G_inv, 0.3, args=(i))  \n",
    "    roots[i, 1] = fsolve(G_inv, 0.65, args=(i))  \n",
    "    roots[i, 2] = fsolve(G_inv, 0.86, args=(i))  \n",
    "    roots[i, 3] = fsolve(G_inv, 0.999, args=(i))\n",
    "    \n",
    "    roots[i, 4] = fsolve(G_inv, -0.3, args=(i))  \n",
    "    roots[i, 5] = fsolve(G_inv, -0.65, args=(i))     \n",
    "    roots[i, 6] = fsolve(G_inv, -0.86, args=(i))  \n",
    "    roots[i, 7] = fsolve(G_inv, -0.999, args=(i))   \n",
    "    \n",
    "# # if needed adjust the initial guess for fsolve for a specific phi_0 region\n",
    "\n",
    "# for i in range(20):\n",
    "#     roots[i, 1] = fsolve(G_inv, 0.63, args=(i)) \n",
    "#     roots[-i, 1] = fsolve(G_inv, 0.57, args=(-i)) \n",
    "    \n",
    "#     roots[i, 5] = fsolve(G_inv, -0.63, args=(i)) # 0.6\n",
    "#     roots[-i, 5] = fsolve(G_inv, -0.57, args=(-i))     "
   ]
  },
  {
   "cell_type": "code",
   "execution_count": null,
   "id": "8efc43ff",
   "metadata": {},
   "outputs": [],
   "source": [
    "data = pd.DataFrame({\n",
    "    \"phi_0\": phi_0/np.pi,\n",
    "    \"E_0\": roots[:,0],\n",
    "    \"E_1\": roots[:,1],\n",
    "    \"E_2\": roots[:,2],\n",
    "    \"E_3\": roots[:,3]\n",
    "})\n",
    "\n",
    "# Save the DataFrame to a text file (tab-separated)\n",
    "data.to_csv(\"ABS_spin.txt\", sep=\"\\t\", index=False)"
   ]
  },
  {
   "cell_type": "code",
   "execution_count": null,
   "id": "205da88b",
   "metadata": {},
   "outputs": [],
   "source": [
    "plt.plot(phi_0/np.pi, roots[:,0], linewidth=1.5)\n",
    "plt.plot(phi_0/np.pi, roots[:,1], linewidth=1.5)\n",
    "plt.plot(phi_0/np.pi, roots[:,2], linewidth=1.5)\n",
    "plt.plot(phi_0/np.pi, roots[:,3], linewidth=1.5)\n",
    "\n",
    "plt.title(r\"$t_L={}, t_R={}, \\gamma_{{SO}} = {},$\"\\\n",
    "          .format(t_L, t_R, gamma_SO)+'\\n'+\n",
    "          r\"$b_x={}\\Delta, b_z = {}\\Delta, L={}\\Delta^{{-1}}$\"\\\n",
    "          .format(np.round(b_x, 2), np.round(b_z, 2), L), fontsize=13)\n",
    "\n",
    "\n",
    "\n",
    "plt.grid()\n",
    "plt.xlabel(r'$\\varphi$, $\\pi$', fontsize=12)\n",
    "plt.ylabel(r'$E_A$, $\\Delta$', fontsize=12)\n"
   ]
  },
  {
   "cell_type": "markdown",
   "id": "41d5d8ff",
   "metadata": {},
   "source": [
    "### AL to AL transition rates"
   ]
  },
  {
   "cell_type": "code",
   "execution_count": null,
   "id": "f8093af5",
   "metadata": {},
   "outputs": [],
   "source": [
    "# diagonalizing the Hamiltonian: get eigenenergies - ABS, and eigenfunctions\n",
    "\n",
    "def diagonal(x):\n",
    "    \n",
    "    eigval_arr = np.zeros((len(phi_0), 4*l))\n",
    "    eigvec_arr = np.zeros((len(phi_0), 4*l, 4*l), dtype='complex')\n",
    "    \n",
    "    s_L = 1\n",
    "    s_R = -1\n",
    "    zero_m = np.zeros_like(Gamma_L)\n",
    "    \n",
    "    for i in range(len(phi_0)):\n",
    "    \n",
    "        Lambda = -1 / np.sqrt(Delta**2 - x[i]**2) \\\n",
    "            * (x[i] * np.block([[(Gamma_L + Gamma_R), zero_m], [zero_m, (Gamma_L + Gamma_R)]]) \\\n",
    "            - Delta * np.block([[zero_m, np.exp(-1j * s_L * phi_0[i]/2) * np.conjugate(np.transpose(F_L))], \\\n",
    "                                [np.exp(1j * s_L * phi_0[i]/2) * F_L, zero_m]]) \\\n",
    "            - Delta * np.block([[zero_m, np.exp(-1j * s_R * phi_0[i]/2) * np.conjugate(np.transpose(F_R))], \\\n",
    "                                [np.exp(1j * s_R * phi_0[i]/2) * F_R, zero_m]]))\n",
    "        \n",
    "    \n",
    "        H = np.block([[np.diag(E_2[0:4]), zero_m], [zero_m, -np.diag(E_2[0:4])]]) + Lambda\n",
    "    \n",
    "        \n",
    "        eigval_arr[i], eigvec_arr[i] = LA.eigh(H)\n",
    "    \n",
    "    return eigval_arr, eigvec_arr "
   ]
  },
  {
   "cell_type": "code",
   "execution_count": null,
   "id": "88c350d7",
   "metadata": {},
   "outputs": [],
   "source": [
    "eigv_0, eigvec_0 = diagonal(roots[:, 0])\n",
    "eigv_1, eigvec_1 = diagonal(roots[:, 1])\n",
    "eigv_2, eigvec_2 = diagonal(roots[:, 2])\n",
    "eigv_3, eigvec_3 = diagonal(roots[:, 3])\n",
    "\n",
    "eigv_4, eigvec_4 = diagonal(roots[:, 4])\n",
    "eigv_5, eigvec_5 = diagonal(roots[:, 5])\n",
    "eigv_6, eigvec_6 = diagonal(roots[:, 6])\n",
    "eigv_7, eigvec_7 = diagonal(roots[:, 7])"
   ]
  },
  {
   "cell_type": "code",
   "execution_count": null,
   "id": "c25a6bed",
   "metadata": {},
   "outputs": [],
   "source": [
    "plt.plot(phi_0/np.pi, eigv_0[:, 4])\n",
    "plt.plot(phi_0/np.pi, eigv_1[:, 5])\n",
    "plt.plot(phi_0/np.pi, eigv_2[:, 6])\n",
    "plt.plot(phi_0/np.pi, eigv_3[:, 7])\n",
    "\n",
    "plt.plot(phi_0/np.pi, eigv_4[:, 3])\n",
    "plt.plot(phi_0/np.pi, eigv_5[:, 2])\n",
    "plt.plot(phi_0/np.pi, eigv_6[:, 1])\n",
    "plt.plot(phi_0/np.pi, eigv_7[:, 0])\n",
    "\n",
    "\n",
    "plt.grid()"
   ]
  },
  {
   "cell_type": "code",
   "execution_count": null,
   "id": "16c86f7a",
   "metadata": {},
   "outputs": [],
   "source": [
    "# Eigenvectors corresponding to the Andreev energies\n",
    "\n",
    "eta_0 = eigvec_0[:, :, 4]\n",
    "eta_1 = eigvec_1[:, :, 5]\n",
    "eta_2 = eigvec_2[:, :, 6]\n",
    "eta_3 = eigvec_3[:, :, 7]\n",
    "\n",
    "eta_4 = eigvec_4[:, :, 3]\n",
    "eta_5 = eigvec_5[:, :, 2]\n",
    "eta_6 = eigvec_6[:, :, 1]\n",
    "eta_7 = eigvec_7[:, :, 0]\n",
    "\n",
    "eta_arr = np.stack([eta_0, eta_1, eta_2, eta_3, eta_4, eta_5, eta_6, eta_7], axis=0)"
   ]
  },
  {
   "cell_type": "code",
   "execution_count": null,
   "id": "2e10d2bc",
   "metadata": {},
   "outputs": [],
   "source": [
    "def curr_matr(x, i):\n",
    "    \n",
    "    s_L = 1\n",
    "    s_R = -1\n",
    "    zero_m = np.zeros_like(Gamma_L)\n",
    "    \n",
    "    Lambda_L = x * np.block([[Gamma_L , zero_m], [zero_m, Gamma_L]]) \\\n",
    "             - Delta * np.block([[zero_m, np.exp(-1j * s_L * phi_0[i]/2) * np.conjugate(np.transpose(F_L))], \\\n",
    "                                [np.exp(1j * s_L * phi_0[i]/2) * F_L, zero_m]]) \n",
    "    \n",
    "    Lambda_R = x * np.block([[Gamma_R , zero_m], [zero_m, Gamma_R]]) \\\n",
    "             - Delta * np.block([[zero_m, np.exp(-1j * s_R * phi_0[i]/2) * np.conjugate(np.transpose(F_R))], \\\n",
    "                                [np.exp(1j * s_R * phi_0[i]/2) * F_R, zero_m]])\n",
    "        \n",
    "    I = -1 / np.sqrt(Delta**2 - x**2) / (2*1j) * (s_L * Lambda_L + s_R * Lambda_R)\n",
    "    \n",
    "    return I"
   ]
  },
  {
   "cell_type": "code",
   "execution_count": null,
   "id": "5c732184",
   "metadata": {},
   "outputs": [],
   "source": [
    "def curr_nl(E_n, E_lamb, eta_n, eta_lamb, i):\n",
    "        \n",
    "    tau_z = np.block([[np.eye(4), np.zeros((4, 4))], [np.zeros((4, 4)), -np.eye(4)]])\n",
    "    \n",
    "    matr = tau_z @ curr_matr(E_lamb, i) - curr_matr(E_n, i) @ tau_z\n",
    "    \n",
    "    return np.conj(eta_n) @ matr @ eta_lamb    "
   ]
  },
  {
   "cell_type": "code",
   "execution_count": null,
   "id": "0b589d8a",
   "metadata": {},
   "outputs": [],
   "source": [
    "I_nl = np.zeros((len(phi_0), 4*l, 4*l), dtype='complex')\n",
    "G_nl = np.zeros((len(phi_0), 4*l, 4*l))\n",
    "\n",
    "for i in range(len(phi_0)):\n",
    "    for n in range(4*l):\n",
    "        for lamd in range(4*l):\n",
    "            I_nl[i, n ,lamd] = curr_nl(roots[i, n], roots[i, lamd], eta_arr[n, i], eta_arr[lamd, i], i)"
   ]
  },
  {
   "cell_type": "code",
   "execution_count": null,
   "id": "354c4c67",
   "metadata": {},
   "outputs": [],
   "source": [
    "plt.plot(phi_0/np.pi, np.abs(I_nl[:, 1, 0]))\n",
    "plt.plot(phi_0/np.pi, np.abs(I_nl[:, 0, 1]))\n",
    "\n",
    "# # Uncomment to plot different current matrix elements\n",
    "\n",
    "# plt.plot(phi_0/np.pi, np.abs(I_nl[:, 3, 2]))\n",
    "# plt.plot(phi_0/np.pi, np.abs(I_nl[:, 2, 3]))"
   ]
  },
  {
   "cell_type": "code",
   "execution_count": null,
   "id": "31923183",
   "metadata": {},
   "outputs": [],
   "source": [
    "for i in range(len(phi_0)):\n",
    "    for n in range(4*l):\n",
    "        for lamd in range(4*l):\n",
    "            \n",
    "            energy_diff = roots[i, n] - roots[i, lamd]\n",
    "            J_spect = spectral_density(energy_diff, lambda_coupl, alpha_0, damping_param, Omega, omega_c)\n",
    "            bose = bose_distrib(energy_diff, T_bos)\n",
    "            \n",
    "            G_nl[i, lamd, n] = 2*np.pi * np.abs(I_nl[i, n, lamd])**2 * J_spect * bose \n",
    "            \n",
    "            if math.isnan(G_nl[i, lamd, n]):\n",
    "                G_nl[i, lamd, n] = 0"
   ]
  },
  {
   "cell_type": "code",
   "execution_count": null,
   "id": "56b0cd70",
   "metadata": {},
   "outputs": [],
   "source": [
    "G_AL_pp = G_nl[:, 0:4, 0:4]\n",
    "G_AL_pm = G_nl[:, 0:4, 4:8]\n",
    "G_AL_mp = G_nl[:, 4:8, 0:4]"
   ]
  },
  {
   "cell_type": "code",
   "execution_count": null,
   "id": "f6546709",
   "metadata": {},
   "outputs": [],
   "source": [
    "plt.plot(phi_0/np.pi, G_AL_pp[:, 0, 1], label=r'$\\Gamma_{12}$')\n",
    "plt.plot(phi_0/np.pi, G_AL_pp[:, 1, 0], label=r'$\\Gamma_{21}$')\n",
    "\n",
    "# # Uncomment to plot different transition rates\n",
    "\n",
    "# plt.plot(phi_0/np.pi, G_AL_pm[:, 0, 2], label=r'$\\Gamma_{1\\bar1}$')\n",
    "# plt.plot(phi_0/np.pi, G_AL_pm[:, 0, 3], label=r'$\\Gamma_{1\\bar2} = \\Gamma_{2\\bar1}$')\n",
    "# plt.plot(phi_0/np.pi, G_AL_pm[:, 1, 3], label=r'$\\Gamma_{2\\bar2}$')\n",
    "\n",
    "# plt.plot(phi_0/np.pi, G_AL_mp[:, 0, 2], label=r'$\\Gamma_{\\bar1 1}$')\n",
    "# plt.plot(phi_0/np.pi, G_AL_mp[:, 0, 3], label=r'$\\Gamma_{\\bar1 2} = \\Gamma_{\\bar2 1}$')\n",
    "# plt.plot(phi_0/np.pi, G_AL_mp[:, 1, 3], label=r'$\\Gamma_{\\bar2 2}$')\n",
    "\n",
    "\n",
    "plt.legend()"
   ]
  },
  {
   "cell_type": "markdown",
   "id": "a52b5e2f",
   "metadata": {},
   "source": [
    "### Finding transition rates ABS -> continuum: DOS"
   ]
  },
  {
   "cell_type": "code",
   "execution_count": null,
   "id": "069018cc",
   "metadata": {},
   "outputs": [],
   "source": [
    "# DOS matrix\n",
    "\n",
    "def spectr(x, i):\n",
    "    \n",
    "    eigval_arr = np.zeros((8))\n",
    "    eigvec_arr = np.zeros((8, 8), dtype='complex')\n",
    "    \n",
    "    s_L = 1\n",
    "    s_R = -1\n",
    "    zero_m = np.zeros_like(Gamma_L)\n",
    "    \n",
    "    Lambda = 1 / np.sqrt(x**2 - Delta**2) \\\n",
    "        * (x * np.block([[(Gamma_L + Gamma_R), zero_m], [zero_m, (Gamma_L + Gamma_R)]]) \\\n",
    "        - Delta * np.block([[zero_m, np.exp(-1j * s_L * phi_0[i]/2) * np.conjugate(np.transpose(F_L))], \\\n",
    "                                [np.exp(1j * s_L * phi_0[i]/2) * F_L, zero_m]]) \\\n",
    "        - Delta * np.block([[zero_m, np.exp(-1j * s_R * phi_0[i]/2) * np.conjugate(np.transpose(F_R))], \\\n",
    "                                [np.exp(1j * s_R * phi_0[i]/2) * F_R, zero_m]]))\n",
    "\n",
    "    G_R = LA.inv(x * np.eye(8) - np.block([[np.diag(E_2[0:4]), zero_m], [zero_m, -np.diag(E_2[0:4])]]) \\\n",
    "          + 1j * np.sign(x) * Lambda)\n",
    "\n",
    "    G_A = np.transpose(np.conj(G_R))\n",
    "\n",
    "    Spectr = 1j * (G_R - G_A)\n",
    "\n",
    "    eigval_arr, eigvec_arr = LA.eigh(Spectr)\n",
    "    \n",
    "    return eigval_arr, eigvec_arr    "
   ]
  },
  {
   "cell_type": "code",
   "execution_count": null,
   "id": "d632448d",
   "metadata": {},
   "outputs": [],
   "source": [
    "eigv_c = np.zeros((len(phi_0), 8))\n",
    "eigvect_c = np.zeros((len(phi_0), 8, 8), dtype='complex')\n",
    "\n",
    "for i in range(len(phi_0)):\n",
    "    eigv_c[i], eigvect_c[i] = spectr(-1.1, i)"
   ]
  },
  {
   "cell_type": "code",
   "execution_count": null,
   "id": "b7b85c3b",
   "metadata": {},
   "outputs": [],
   "source": [
    "plt.plot(phi_0/np.pi, eigv_c[:, 0])\n",
    "plt.plot(phi_0/np.pi, eigv_c[:, 1])\n",
    "plt.plot(phi_0/np.pi, eigv_c[:, 2])\n",
    "plt.plot(phi_0/np.pi, eigv_c[:, 3])\n",
    "\n",
    "plt.plot(phi_0/np.pi, eigv_c[:, 4])\n",
    "plt.plot(phi_0/np.pi, eigv_c[:, 5])\n",
    "plt.plot(phi_0/np.pi, eigv_c[:, 6])\n",
    "plt.plot(phi_0/np.pi, eigv_c[:, 7])"
   ]
  },
  {
   "cell_type": "code",
   "execution_count": null,
   "id": "c31ece58",
   "metadata": {},
   "outputs": [],
   "source": [
    "# current matrix for continuum states E > Delta - retarded square root in the denominator\n",
    "\n",
    "def curr_matr_cont(x, i):\n",
    "    \n",
    "    s_L = 1\n",
    "    s_R = -1\n",
    "    zero_m = np.zeros_like(Gamma_L)\n",
    "    \n",
    "    Lambda_L = x * np.block([[Gamma_L , zero_m], [zero_m, Gamma_L]]) \\\n",
    "             - Delta * np.block([[zero_m, np.exp(-1j * s_L * phi_0[i]/2) * np.conjugate(np.transpose(F_L))], \\\n",
    "                                [np.exp(1j * s_L * phi_0[i]/2) * F_L, zero_m]]) \n",
    "    \n",
    "    Lambda_R = x * np.block([[Gamma_R , zero_m], [zero_m, Gamma_R]]) \\\n",
    "         - Delta * np.block([[zero_m, np.exp(-1j * s_R * phi_0[i]/2) * np.conjugate(np.transpose(F_R))], \\\n",
    "                                [np.exp(1j * s_R * phi_0[i]/2) * F_R, zero_m]])\n",
    "    \n",
    "    I = -1 / (-1j * np.sign(x) * np.sqrt(x**2 - Delta**2)) / (2*1j) \\\n",
    "        * (s_L * Lambda_L + s_R * Lambda_R)\n",
    "    \n",
    "    return I"
   ]
  },
  {
   "cell_type": "code",
   "execution_count": null,
   "id": "d0fd48f9",
   "metadata": {},
   "outputs": [],
   "source": [
    "# continuum current matrix element\n",
    "\n",
    "def curr_cont_nl(E, E_lamd, psi_n, eta_lamd, i):\n",
    "    \n",
    "    tau_z = np.block([[np.eye(4), np.zeros((4, 4))], [np.zeros((4, 4)), -np.eye(4)]])\n",
    "    \n",
    "    matr = tau_z @ curr_matr(E_lamd, i) - curr_matr_cont(E, i) @ tau_z\n",
    "    \n",
    "    return np.conj(psi_n) @ matr @ eta_lamd    "
   ]
  },
  {
   "cell_type": "code",
   "execution_count": null,
   "id": "f4370400",
   "metadata": {},
   "outputs": [],
   "source": [
    "def integr_gamma_out(x, E_lamd, eta_lamd, i, T_bos, T_ferm,\\\n",
    "                    lambda_coupl, alpha_0, damping_param, Omega, omega_c):\n",
    "    \n",
    "    E = x + E_lamd\n",
    "    \n",
    "    # 8 eigenvalues, eigenvectors for continuum state\n",
    "    eigv_E, eigvect_E = spectr(E, i)\n",
    "    \n",
    "    # current elements\n",
    "    I_nl = np.zeros((8), dtype='complex')\n",
    "    \n",
    "    for n in range(8): \n",
    "        I_nl = curr_cont_nl(E, E_lamd, eigvect_E[:, n], eta_lamd, i)\n",
    "        \n",
    "    sum_n = np.sum(eigv_E * np.abs(I_nl)**2)\n",
    "    \n",
    "    n_F = fermi_distrib(E, T_ferm)\n",
    "    n_B = bose_distrib(x, T_bos)\n",
    "    J_sp = spectral_density(x, lambda_coupl, alpha_0, damping_param, Omega, omega_c)\n",
    "    \n",
    "    return J_sp * n_B * (1 - n_F) * sum_n \n",
    "    "
   ]
  },
  {
   "cell_type": "code",
   "execution_count": null,
   "id": "493784eb",
   "metadata": {},
   "outputs": [],
   "source": [
    "def integr_gamma_in(x, E_lamd, eta_lamd, i, T_bos, T_ferm,\\\n",
    "                    lambda_coupl, alpha_0, damping_param, Omega, omega_c):\n",
    "    \n",
    "    E = x + E_lamd\n",
    "    \n",
    "    # 8 eigenvalues, eigenvectors for continuum state\n",
    "    eigv_E, eigvect_E = spectr(E, i)\n",
    "    \n",
    "    # current elements\n",
    "    I_nl = np.zeros((8), dtype='complex')\n",
    "    \n",
    "    for n in range(8): \n",
    "        I_nl = curr_cont_nl(E, E_lamd, eigvect_E[:, n], eta_lamd, i)\n",
    "        \n",
    "    sum_n = np.sum(eigv_E * np.abs(I_nl)**2)\n",
    "    \n",
    "    n_F = fermi_distrib(E, T_ferm)\n",
    "    n_B = bose_distrib(x, T_bos)\n",
    "    J_sp = spectral_density(x, lambda_coupl, alpha_0, damping_param, Omega, omega_c)\n",
    "    \n",
    "    return J_sp * (n_B + 1) * n_F * sum_n \n",
    "    "
   ]
  },
  {
   "cell_type": "code",
   "execution_count": null,
   "id": "2a58021a",
   "metadata": {},
   "outputs": [],
   "source": [
    "def compute_integrals(i, lamd, Delta, roots, eta_arr, T_bos, T_ferm,\\\n",
    "                    lambda_coupl, alpha_0, damping_param, Omega, omega_c):\n",
    "    \n",
    "    Gamma_out_pc = integrate.quad(integr_gamma_out, Delta - roots[i, lamd], np.infty,\n",
    "                                  args=(roots[i, lamd], eta_arr[lamd, i], i, T_bos, T_ferm,\\\n",
    "                    lambda_coupl, alpha_0, damping_param, Omega, omega_c))[0]\n",
    "    Gamma_out_mc = integrate.quad(integr_gamma_out, -np.infty, -Delta - roots[i, lamd],\n",
    "                                  args=(roots[i, lamd], eta_arr[lamd, i], i, T_bos, T_ferm,\\\n",
    "                    lambda_coupl, alpha_0, damping_param, Omega, omega_c))[0]\n",
    "    Gamma_in_pc = integrate.quad(integr_gamma_in, Delta - roots[i, lamd], np.infty,\n",
    "                                 args=(roots[i, lamd], eta_arr[lamd, i], i, T_bos, T_ferm,\\\n",
    "                    lambda_coupl, alpha_0, damping_param, Omega, omega_c))[0]\n",
    "    Gamma_in_mc = integrate.quad(integr_gamma_in, -np.infty, -Delta - roots[i, lamd],\n",
    "                                 args=(roots[i, lamd], eta_arr[lamd, i], i, T_bos, T_ferm,\\\n",
    "                    lambda_coupl, alpha_0, damping_param, Omega, omega_c))[0]\n",
    "    \n",
    "    # Return results as a tuple\n",
    "    return (i, lamd, Gamma_out_pc, Gamma_out_mc, Gamma_in_pc, Gamma_in_mc)"
   ]
  },
  {
   "cell_type": "code",
   "execution_count": null,
   "id": "b9c383ca",
   "metadata": {},
   "outputs": [],
   "source": [
    "Gamma_out_pc = np.zeros((len(phi_0), 4))\n",
    "Gamma_out_mc = np.zeros_like(Gamma_out_pc) \n",
    "Gamma_in_pc = np.zeros_like(Gamma_out_pc)\n",
    "Gamma_in_mc = np.zeros_like(Gamma_out_pc)\n",
    "\n",
    "# Use ProcessPoolExecutor for parallel execution\n",
    "with ProcessPoolExecutor() as executor:\n",
    "    \n",
    "    # Create a list of futures by submitting tasks for parallel execution\n",
    "    futures = [executor.submit(compute_integrals, i, lamd, Delta, roots, eta_arr, T_bos, T_ferm,\\\n",
    "                    lambda_coupl, alpha_0, damping_param, Omega, omega_c)\n",
    "               for i in range(len(phi_0)) for lamd in range(4)]\n",
    "    \n",
    "    # Collect results as they are completed\n",
    "    for future in futures:\n",
    "        i, lamd, out_pc, out_mc, in_pc, in_mc = future.result()\n",
    "        \n",
    "        # Store results in the appropriate arrays\n",
    "        Gamma_out_pc[i, lamd] = out_pc\n",
    "        Gamma_out_mc[i, lamd] = out_mc\n",
    "        Gamma_in_pc[i, lamd] = in_pc\n",
    "        Gamma_in_mc[i, lamd] = in_mc"
   ]
  },
  {
   "cell_type": "code",
   "execution_count": null,
   "id": "21ae8998",
   "metadata": {},
   "outputs": [],
   "source": [
    "Gamma_in = (Gamma_in_pc + Gamma_in_mc) * 2*np.pi\n",
    "Gamma_out = (Gamma_out_pc + Gamma_out_mc) * 2*np.pi"
   ]
  },
  {
   "cell_type": "code",
   "execution_count": null,
   "id": "aa7141f9",
   "metadata": {},
   "outputs": [],
   "source": [
    "plt.plot(phi_0/np.pi, Gamma_out[:, 0], label=r'$\\Gamma^{out}_1$')\n",
    "plt.plot(phi_0/np.pi, Gamma_in[:, 0], label=r'$\\Gamma^{in}_1$')\n",
    "\n",
    "plt.plot(phi_0/np.pi, Gamma_out[:, 1], label=r'$\\Gamma^{out}_{2}$')\n",
    "plt.plot(phi_0/np.pi, Gamma_in[:, 1], label=r'$\\Gamma^{in}_{2}$')\n",
    "\n",
    "plt.legend()\n",
    "plt.grid()"
   ]
  },
  {
   "cell_type": "markdown",
   "id": "5b0fcc46",
   "metadata": {},
   "source": [
    "## Lindblad euqation: steady state"
   ]
  },
  {
   "cell_type": "code",
   "execution_count": null,
   "id": "6319550e",
   "metadata": {},
   "outputs": [],
   "source": [
    "N = 4\n",
    "N_state = 2**N"
   ]
  },
  {
   "cell_type": "code",
   "execution_count": null,
   "id": "9c203526",
   "metadata": {},
   "outputs": [],
   "source": [
    "# function that returns the momentum state (as string) for printing\n",
    "\n",
    "def print_state(n):\n",
    "    \n",
    "    if len(bin(n)[:1:-1]) < N:\n",
    "        new_bin = bin(n)[:1:-1]\n",
    "        for i in range(N - len(bin(n)[:1:-1])):\n",
    "            new_bin += '0'\n",
    "            \n",
    "        return new_bin\n",
    "    else:\n",
    "        return bin(n)[:1:-1]"
   ]
  },
  {
   "cell_type": "code",
   "execution_count": null,
   "id": "47900036",
   "metadata": {},
   "outputs": [],
   "source": [
    "# the momentum vectors < q_i0 ... q_iNk | rho | q_j0 ... q_jNk >, where q's can be either 0 or 1 \n",
    "# in case of fermions - by writing each i and j of the density matrix in the binary representation\n",
    "# we get all possible combinations of occupied/non-occupied Nk momentum states\n",
    "\n",
    "# this function finds whether the q'_iq entry (q = [0, Nk-1] index of the entry in the vector) is occupied or not \n",
    "def n(q, i):\n",
    "    if q > len(bin(i)[:1:-1])-1:\n",
    "        return 0\n",
    "    else:\n",
    "        return int(bin(i)[:1:-1][q])"
   ]
  },
  {
   "cell_type": "code",
   "execution_count": null,
   "id": "7f79903c",
   "metadata": {},
   "outputs": [],
   "source": [
    "lvl = np.array(range(N))\n",
    "states = np.array(range(N_state))\n",
    "\n",
    "n_v = np.vectorize(n)\n",
    "\n",
    "nf_h = np.array([n_v(lvl, si) for si in states])"
   ]
  },
  {
   "cell_type": "code",
   "execution_count": null,
   "id": "2faa2990",
   "metadata": {},
   "outputs": [],
   "source": [
    "# steady state matrix\n",
    "Steady_M = np.zeros((len(phi_0), N_state, N_state), dtype='float64') \n",
    "\n",
    "for j in range(len(phi_0)):\n",
    "    \n",
    "    # loop over the raws - as many as there are states - 16\n",
    "    for i in range(N_state):\n",
    "\n",
    "        # loop over 4 levels\n",
    "        for mu in range(4):\n",
    "\n",
    "            n_mu = nf_h[i, mu]\n",
    "\n",
    "            # G_in\n",
    "            Steady_M[j, i, i + (-1)**n_mu * 2**mu] += n_mu * (Gamma_in[j, mu] )\n",
    "\n",
    "            # G_out\n",
    "            Steady_M[j, i, i + (-1)**n_mu * 2**mu] += (1-n_mu) * (Gamma_out[j, mu] )\n",
    "\n",
    "            # G_in, G_out\n",
    "            Steady_M[j, i, i] -= n_mu * (Gamma_out[j, mu]) + \\\n",
    "                                (1-n_mu) * (Gamma_in[j, mu] )\n",
    "\n",
    "    #             loop over lambda' != lamda\n",
    "            for nu in chain(range(mu), range(mu+1, 4)):\n",
    "\n",
    "                n_nu = nf_h[i, nu]\n",
    "\n",
    "                Steady_M[j, i, i + (-1)**n_mu * 2**mu + (-1)**n_nu * 2**nu] += \\\n",
    "                                n_mu * (1-n_nu) * G_AL_pp[j, nu, mu] + \\\n",
    "                                n_mu * n_nu * G_AL_mp[j, nu, mu] + \\\n",
    "                                (1-n_mu) * (1-n_nu) * G_AL_pm[j, nu, mu]\n",
    "\n",
    "                Steady_M[j, i, i] -= (1-n_mu) * n_nu * G_AL_pp[j, nu, mu] + \\\n",
    "                                         (1-n_mu) * (1-n_nu) * G_AL_mp[j, nu, mu] +\\\n",
    "                                         n_mu * n_nu * G_AL_pm[j, nu, mu]\n"
   ]
  },
  {
   "cell_type": "code",
   "execution_count": null,
   "id": "fd69eb87",
   "metadata": {},
   "outputs": [],
   "source": [
    "ns = np.zeros((len(phi_0), 16), dtype='float64')\n",
    "\n",
    "for i in range(len(phi_0)):\n",
    "    ns[i] = null_space(Steady_M[i], rcond=10e-16)[:,0]\n",
    "#     print(i, LA.matrix_rank(Steady_M[i]))\n",
    "\n",
    "steady_occup = ns\n",
    "steady_occup /= np.sum(steady_occup, axis=1, keepdims=True)"
   ]
  },
  {
   "cell_type": "code",
   "execution_count": null,
   "id": "49108456",
   "metadata": {},
   "outputs": [],
   "source": [
    "for i in range(N_state):\n",
    "    print(nf_h[i], '\\t', steady_occup[51, i])"
   ]
  },
  {
   "cell_type": "code",
   "execution_count": null,
   "id": "5f2ae8a1",
   "metadata": {},
   "outputs": [],
   "source": [
    "plt.plot(phi_0/np.pi, steady_occup[:, 0], label=r'$P_0$')\n",
    "plt.plot(phi_0/np.pi, steady_occup[:, 1], label=r'$P_1$')\n",
    "plt.plot(phi_0/np.pi, steady_occup[:, 2], label=r'$P_2$')\n",
    "plt.plot(phi_0/np.pi, steady_occup[:, 3], label=r'$P_3$')\n",
    "plt.plot(phi_0/np.pi, steady_occup[:, 4], label=r'$P_4$')\n",
    "plt.plot(phi_0/np.pi, steady_occup[:, 5], label=r'$P_5$')\n",
    "plt.plot(phi_0/np.pi, steady_occup[:, 6], label=r'$P_6$')\n",
    "\n",
    "plt.grid()\n",
    "plt.legend()"
   ]
  },
  {
   "cell_type": "markdown",
   "id": "32d79ec2",
   "metadata": {},
   "source": [
    "### Relaxation time calculation"
   ]
  },
  {
   "cell_type": "code",
   "execution_count": null,
   "id": "0e1acc70",
   "metadata": {},
   "outputs": [],
   "source": [
    "def rhs1(t, P, i_eq):\n",
    "\n",
    "    # find derivatives of N_state elements\n",
    "    dP = np.zeros(N_state)\n",
    "        \n",
    "    dP = Steady_M[i_eq] @ P\n",
    "        \n",
    "    return dP"
   ]
  },
  {
   "cell_type": "code",
   "execution_count": null,
   "id": "0660cc55",
   "metadata": {},
   "outputs": [],
   "source": [
    "def compute_tau(i1, i2):\n",
    "    \n",
    "    P0 = steady_occup[i1]\n",
    "    sol_ = solve_ivp(rhs1, (0.0, 1e13), P0, method='LSODA', dense_output=True, args=(i2,))\n",
    "    ts_ = sol_.t\n",
    "    ys_ = np.stack(sol_.y)\n",
    "    \n",
    "    tau = 1e10  # Default value for tau\n",
    "    for j in range(len(ts_)):\n",
    "        if np.sum(np.abs(ys_[:, j] - steady_occup[i2, :])) < 1e-3:\n",
    "            tau = ts_[j]\n",
    "            break\n",
    "            \n",
    "    return i1, i2, tau"
   ]
  },
  {
   "cell_type": "code",
   "execution_count": null,
   "id": "1f8f6bcb",
   "metadata": {},
   "outputs": [],
   "source": [
    "# calculate relaxation time\n",
    "tau_arr = np.zeros((len(phi_0), len(phi_0)))\n",
    "\n",
    "# Parallel execution\n",
    "with ProcessPoolExecutor() as executor:\n",
    "    # Submit tasks for all (i1, i2) pairs\n",
    "    futures = [executor.submit(compute_tau, i1, i2) for i1 in range(len(phi_0)) for i2 in range(len(phi_0))]\n",
    "    \n",
    "    # Collect results and populate tau_arr\n",
    "    for future in futures:\n",
    "        i1, i2, tau = future.result()\n",
    "        tau_arr[i1, i2] = tau\n",
    "\n",
    "# Now tau_arr contains the computed tau values"
   ]
  },
  {
   "cell_type": "code",
   "execution_count": null,
   "id": "a1708612",
   "metadata": {},
   "outputs": [],
   "source": [
    "plt.imshow(tau_arr[:, :], extent=[phi_0[0]/np.pi, phi_0[-1]/np.pi,\\\n",
    "                                         phi_0[0]/np.pi, phi_0[-1]/np.pi],\\\n",
    "           origin='lower', aspect='auto', cmap='turbo',)\n",
    "\n",
    "plt.colorbar(label=r'$\\tau, \\Delta$')\n",
    "plt.xlabel(r'$\\varphi_{final}, \\pi$')\n",
    "plt.ylabel(r'$\\varphi_{init}, \\pi$')\n",
    "\n",
    "plt.title(r\"$L = {}\\Delta^{{-1}}, \\eta_d = {}, \\Omega={}\\Delta,$\"\\\n",
    "          .format(L, damping_param, Omega)+'\\n'+\n",
    "          r\"$T_{{qp}} = {}\\Delta, T_b = {}\\Delta, \\gamma_{{SO}}={}, b_x = {}, b_z = {}$\"\\\n",
    "          .format(T_ferm, T_bos, gamma_SO, b_x, b_z), fontsize=13)\n",
    "\n",
    "# # uncomment to plot contour lines\n",
    "\n",
    "# contour_levels = np.linspace(np.min(init_trace_dist[:, :]), \n",
    "#                              np.max(init_trace_dist[:, :]), 10)\n",
    "# contour = plt.contour(init_trace_dist[:, :],\n",
    "#                       levels=contour_levels,\n",
    "#                       extent=[phi_0[0]/np.pi, phi_0[-1]/np.pi,\n",
    "#                               phi_0[0]/np.pi, phi_0[-1]/np.pi],\n",
    "#                       colors='black', linewidths=0.5)\n",
    "\n",
    "plt.show()"
   ]
  },
  {
   "cell_type": "code",
   "execution_count": null,
   "id": "47072ad4",
   "metadata": {},
   "outputs": [],
   "source": [
    "# calculate and plot initial trace distance\n",
    "\n",
    "P0 = steady_occup[:, np.newaxis]\n",
    "init_trace_dist = np.sum(np.abs(P0 - steady_occup), axis=2)\n",
    "\n",
    "plt.imshow(init_trace_dist[:, :], extent=[phi_0[0]/np.pi, phi_0[-1]/np.pi,\\\n",
    "                                                   phi_0[0]/np.pi, phi_0[-1]/np.pi],\n",
    "           origin='lower', aspect='auto', cmap='turbo', vmin=0)\n",
    "plt.title(r\"$L = {}\\Delta^{{-1}}, \\eta_d = {}, $\"\\\n",
    "          .format(L,  damping_param)+'\\n'+\n",
    "          r\"$\\Omega={}\\Delta, T_{{qp}}^{{-1}} = {}\\Delta, T_b^{{-1}} = {}\\Delta$\"\\\n",
    "          .format(Omega, np.round(1/T_ferm, 2), np.round(1/T_bos, 2)), fontsize=13)\n",
    "\n",
    "cbar = plt.colorbar()\n",
    "cbar.set_label(r'$\\mathcal{D}_T(0)$')  # Color bar label in log scale\n",
    "\n",
    "\n",
    "plt.xlabel(r'$\\varphi_{final}, \\pi$')\n",
    "plt.ylabel(r'$\\varphi_{init}, \\pi$')\n",
    "\n",
    "plt.show()"
   ]
  },
  {
   "cell_type": "code",
   "execution_count": null,
   "id": "c4e43a0c",
   "metadata": {},
   "outputs": [],
   "source": [
    "# write the initial/final phase, relaxation time tau and initial trace distance in a file\n",
    "\n",
    "with open(\"tau_spin_1.8pi.txt\", \"w\") as file:\n",
    "    # write the header\n",
    "    file.write(\"phi_init phi_f tau D0\\n\")\n",
    "    \n",
    "    # iterate over the array indices and write the data\n",
    "    for i in range(len(phi_0)):\n",
    "        for j in range(len(phi_0)):\n",
    "            file.write(f\"{phi_0[i]} {phi_0[j]} {tau_arr[i, j]} {init_trace_dist[i, j]}\\n\")"
   ]
  }
 ],
 "metadata": {
  "kernelspec": {
   "display_name": "Python 3 (ipykernel)",
   "language": "python",
   "name": "python3"
  },
  "language_info": {
   "codemirror_mode": {
    "name": "ipython",
    "version": 3
   },
   "file_extension": ".py",
   "mimetype": "text/x-python",
   "name": "python",
   "nbconvert_exporter": "python",
   "pygments_lexer": "ipython3",
   "version": "3.10.9"
  }
 },
 "nbformat": 4,
 "nbformat_minor": 5
}
