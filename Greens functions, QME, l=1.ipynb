{
 "cells": [
  {
   "cell_type": "code",
   "execution_count": null,
   "id": "feb8dc1b",
   "metadata": {},
   "outputs": [],
   "source": [
    "import math\n",
    "import numpy as np\n",
    "import matplotlib.pyplot as plt\n",
    "from numpy import linalg as LA\n",
    "\n",
    "from scipy.integrate import solve_ivp\n",
    "from scipy import integrate\n",
    "from scipy.linalg import null_space\n",
    "\n",
    "from scipy.optimize import fsolve\n",
    "from scipy.integrate import solve_bvp\n",
    "\n",
    "import pickle\n",
    "import pandas as pd\n",
    "import cmath\n",
    "\n",
    "from itertools import chain\n",
    "import csv"
   ]
  },
  {
   "cell_type": "code",
   "execution_count": null,
   "id": "65ec1cb0",
   "metadata": {},
   "outputs": [],
   "source": [
    "from concurrent.futures import ProcessPoolExecutor"
   ]
  },
  {
   "cell_type": "code",
   "execution_count": null,
   "id": "9c7e877e",
   "metadata": {},
   "outputs": [],
   "source": [
    "%matplotlib notebook"
   ]
  },
  {
   "cell_type": "code",
   "execution_count": null,
   "id": "25935f38",
   "metadata": {},
   "outputs": [],
   "source": [
    "# length\n",
    "L = 0.6\n",
    "\n",
    "# orbital number\n",
    "l = 1\n",
    "\n",
    "# coupling srength left/right\n",
    "t_L = 0.41 # 0.99\n",
    "t_R = t_L\n",
    "\n",
    "# effective mass\n",
    "mx = 30 # 30\n",
    "Delta = 1"
   ]
  },
  {
   "cell_type": "code",
   "execution_count": null,
   "id": "ffd27ff3",
   "metadata": {},
   "outputs": [],
   "source": [
    "phi_0 = np.linspace(0.003, 2*np.pi, num=201)\n",
    "phi_0[0] = 0.001\n",
    "phi_0[-1] -= 0.001\n",
    "phi_0[100] += 0.001\n",
    "\n",
    "mid = len(phi_0)//2\n",
    "\n",
    "# # if needed choose a spesific region of phases too observe the Mpemba effect closer in this region\n",
    "\n",
    "# range1 = np.linspace(0, 0.3 * np.pi, num=50)  # Exclude endpoint if desired\n",
    "# range2 = np.linspace(0.7 * np.pi, 1 * np.pi, num=50)         # Include endpoint if desired\n",
    "\n",
    "# # Combine the two ranges\n",
    "# phi_0 = np.concatenate((range1, range2))"
   ]
  },
  {
   "cell_type": "code",
   "execution_count": null,
   "id": "ab2610b8",
   "metadata": {},
   "outputs": [],
   "source": [
    "lambda_coupl = 0.1 # Andreev-continuum coupling rate\n",
    "damping_param = 0.1 # 0.01\n",
    "Omega = 0.01 #0.2\n",
    "\n",
    "T_ferm = 0.5\n",
    "beta_ferm = 1/T_ferm\n",
    "T_bos = 1/5\n",
    "\n",
    "alpha_0 = 0.001 # 0.0001\n",
    "omega_c = 1"
   ]
  },
  {
   "cell_type": "code",
   "execution_count": null,
   "id": "bdba3381",
   "metadata": {},
   "outputs": [],
   "source": [
    "def bose_distrib(x, T):\n",
    "    \"\"\" Bose distribution function that handles large x/T to avoid overflow in the exponent \"\"\"  \n",
    "\n",
    "    y = x / T\n",
    "    cutoff = 500.0  # cutoff to avoid overflow in exp\n",
    "    \n",
    "    if y >= 0:\n",
    "        if y > cutoff:\n",
    "            return 0.0  # for large y, n_B -> 0\n",
    "        else:\n",
    "            return 1.0 / np.expm1(y)  # expm1(y) = exp(y) - 1\n",
    "    else:\n",
    "        y = -y\n",
    "        if y > cutoff:\n",
    "            return -1.0  # for large negative y, expression goes to -1 (since n_B -> 0)\n",
    "        else:\n",
    "            return -1.0 - 1.0 / np.expm1(y)"
   ]
  },
  {
   "cell_type": "code",
   "execution_count": null,
   "id": "e106e5ae",
   "metadata": {},
   "outputs": [],
   "source": [
    "def fermi_distrib(x, T):\n",
    "    \"\"\" Fermi distribution function that handles large x/T to avoid overflow in the exponent \"\"\"    \n",
    "    \n",
    "    y = x / T\n",
    "    cutoff = 500.0  # cutoff to avoid overflow in exp\n",
    "    \n",
    "    if y > cutoff:\n",
    "        return 0.0  # for large positive y, 1/(exp(y)+1) -> 0\n",
    "    elif y < -cutoff:\n",
    "        return 1.0  # for large negative y, 1/(exp(y)+1) -> 1\n",
    "    else:\n",
    "        return 1.0 / (np.exp(y) + 1.0)"
   ]
  },
  {
   "cell_type": "code",
   "execution_count": null,
   "id": "327a4b37",
   "metadata": {},
   "outputs": [],
   "source": [
    "# spectral density function\n",
    "\n",
    "def spectral_density(x, lambda_coupl, alpha_0, damping_param, Omega, omega_c):\n",
    "    \n",
    "    J = lambda_coupl**2 * damping_param * (1/((x - Omega)**2 + damping_param**2/4) - \\\n",
    "                                                   1/((x + Omega)**2 + damping_param**2/4))\n",
    "    \n",
    "    J_ohm = alpha_0 * x * np.exp(-np.abs(x)/omega_c)\n",
    "    \n",
    "    return J + J_ohm"
   ]
  },
  {
   "cell_type": "markdown",
   "id": "ac3ff301",
   "metadata": {},
   "source": [
    "### Finding free dot eigenenergies and eigenfunctions -  hopping parameters"
   ]
  },
  {
   "cell_type": "code",
   "execution_count": null,
   "id": "8af26057",
   "metadata": {},
   "outputs": [],
   "source": [
    "def fun(x, y, p):\n",
    "    k = p[0]\n",
    "    return np.vstack((y[1], -k**2 * y[0]))"
   ]
  },
  {
   "cell_type": "code",
   "execution_count": null,
   "id": "8778621b",
   "metadata": {},
   "outputs": [],
   "source": [
    "# boundary condition\n",
    "\n",
    "def bc(ya, yb, p):\n",
    "#     k = p[0]\n",
    "\n",
    "# last element - normalization condition (knowing that I will get cos function as a solution)\n",
    "    return np.array([ya[1], yb[1], yb[0] - np.sqrt(2/L)])"
   ]
  },
  {
   "cell_type": "code",
   "execution_count": null,
   "id": "46132147",
   "metadata": {},
   "outputs": [],
   "source": [
    "# Set up the initial mesh and guess for y\n",
    "\n",
    "x = np.linspace(-L/2, L/2, 10)\n",
    "y = np.zeros((2, x.size))\n",
    "y[0, 1] = 1\n",
    "y[0, 6] = -1"
   ]
  },
  {
   "cell_type": "code",
   "execution_count": null,
   "id": "a4736ec2",
   "metadata": {},
   "outputs": [],
   "source": [
    "sol_test = solve_bvp(fun, bc, x, y, p=[np.pi/L])"
   ]
  },
  {
   "cell_type": "code",
   "execution_count": null,
   "id": "147d5698",
   "metadata": {},
   "outputs": [],
   "source": [
    "# function to find tn at the contacts for the specified l \n",
    "\n",
    "def find_tn(l):\n",
    "    tn = np.zeros((l, 2))\n",
    "    \n",
    "    x = np.linspace(-L/2, L/2, 10)\n",
    "    y = np.zeros((2, x.size))\n",
    "    y[0, 1] = 1\n",
    "    y[0, 6] = -1\n",
    "    \n",
    "    for i in range(l):\n",
    "        sol_i = solve_bvp(fun, bc, x, y, p=[(i+1)*np.pi/L])\n",
    "        \n",
    "        # tn[l, -L/2]\n",
    "        tn[i, 0] = sol_i.sol(-L/2)[0]\n",
    "        \n",
    "        # tn[l, L/2]\n",
    "        tn[i, 1] = sol_i.sol(L/2)[0]\n",
    "        \n",
    "    return tn"
   ]
  },
  {
   "cell_type": "code",
   "execution_count": null,
   "id": "8b9c079a",
   "metadata": {},
   "outputs": [],
   "source": [
    "x_plot = np.linspace(-L/2, L/2, 100)\n",
    "y_plot = sol_test.sol(x_plot)[0]\n",
    "plt.plot(x_plot, y_plot)\n",
    "plt.xlabel(\"x\")\n",
    "plt.ylabel(\"y\")\n",
    "\n",
    "# compare the obtained solution with the analytical solution given by:\n",
    "# sqrt(2/L) * cos(p_n(x-L/2)), p_n = pi*n/L\n",
    "\n",
    "plt.scatter(x_plot, np.sqrt(2/L)*np.cos(np.pi/L*(x_plot - L/2)), s=10)\n",
    "plt.grid()"
   ]
  },
  {
   "cell_type": "code",
   "execution_count": null,
   "id": "69351827",
   "metadata": {},
   "outputs": [],
   "source": [
    "# hopping parameters\n",
    "\n",
    "tn = find_tn(l)\n",
    "tn"
   ]
  },
  {
   "cell_type": "code",
   "execution_count": null,
   "id": "3fb057c1",
   "metadata": {},
   "outputs": [],
   "source": [
    "# Calculate G_L, G_R matrices from tn matrix (2 columns of tn are the hopping parameters (L/R) of each level)\n",
    "\n",
    "col_L = tn[:, 0]\n",
    "\n",
    "Gamma_L = t_L**2 * np.outer(col_L, col_L)  # Compute the outer product to form a square matrix\n",
    " \n",
    "col_R = tn[:, 1]\n",
    "Gamma_R = t_R**2 * np.outer(col_R, col_R) "
   ]
  },
  {
   "cell_type": "code",
   "execution_count": null,
   "id": "c6eb5027",
   "metadata": {},
   "outputs": [],
   "source": [
    "# free dot energies\n",
    "\n",
    "l_values = np.arange(2, l+2)  \n",
    "eps_n = (l_values * np.pi / L)**2 / (2 * mx)"
   ]
  },
  {
   "cell_type": "code",
   "execution_count": null,
   "id": "b0d98295",
   "metadata": {},
   "outputs": [],
   "source": [
    "# transparency\n",
    "\n",
    "transp = 4*Gamma_R[0,0]**2/(4*Gamma_R[0,0]**2+eps_n[0]**2)\n",
    "transp"
   ]
  },
  {
   "cell_type": "markdown",
   "id": "cf8e79b0",
   "metadata": {},
   "source": [
    "### Finding Andreev states"
   ]
  },
  {
   "cell_type": "code",
   "execution_count": null,
   "id": "27a669a5",
   "metadata": {},
   "outputs": [],
   "source": [
    "def G_inv(x, i):\n",
    "    \n",
    "    s_L = 1\n",
    "    s_R = -1\n",
    "    zero_m = np.zeros_like(Gamma_L)\n",
    "    \n",
    "    Lambda = -1 / np.sqrt(Delta**2 - x**2) \\\n",
    "            * (x * np.block([[(Gamma_L + Gamma_R), zero_m], [zero_m, (Gamma_L + Gamma_R)]]) \\\n",
    "            - Delta * np.block([[zero_m, np.exp(-1j * s_L * phi_0[i]/2) * Gamma_L], \\\n",
    "                                [np.exp(1j * s_L * phi_0[i]/2) * Gamma_L, zero_m]]) \\\n",
    "            - Delta * np.block([[zero_m, np.exp(-1j * s_R * phi_0[i]/2) * Gamma_R], \\\n",
    "                                [np.exp(1j * s_R * phi_0[i]/2) * Gamma_R, zero_m]]))\n",
    "    \n",
    "    G_inv = x * np.eye(2) - np.block([[np.diag(eps_n), zero_m], [zero_m, -np.diag(eps_n)]]) - Lambda\n",
    "    \n",
    "    return LA.det(G_inv)   "
   ]
  },
  {
   "cell_type": "code",
   "execution_count": null,
   "id": "135202ee",
   "metadata": {},
   "outputs": [],
   "source": [
    "roots = np.zeros((len(phi_0), 2*l)) # note: the energies are real-valued!\n",
    "\n",
    "for i in range(len(phi_0)):\n",
    "  \n",
    "    roots[i, 0] = fsolve(G_inv, 0.99, args=(i))  \n",
    "    roots[i, 1] = fsolve(G_inv, -0.99, args=(i))   "
   ]
  },
  {
   "cell_type": "code",
   "execution_count": null,
   "id": "c007da51",
   "metadata": {},
   "outputs": [],
   "source": [
    "# Save the obtained ABS energies as a txt file\n",
    "\n",
    "data = pd.DataFrame({\n",
    "    \"phi_0\": phi_0/np.pi,\n",
    "    \"ABS_energy\": roots[:,0]\n",
    "})\n",
    "\n",
    "# Save the DataFrame to a text file (tab-separated)\n",
    "data.to_csv(\"ABS_0.1.txt\", sep=\"\\t\", index=False)"
   ]
  },
  {
   "cell_type": "code",
   "execution_count": null,
   "id": "9903b165",
   "metadata": {},
   "outputs": [],
   "source": [
    "plt.plot(phi_0/np.pi, roots[:,0], linewidth=1.5)\n",
    "plt.plot(phi_0/np.pi, roots[:,1], linewidth=1.5)\n",
    "\n",
    "\n",
    "plt.grid()\n",
    "plt.xlabel(r'$\\varphi_0$, $\\pi$', fontsize=12)\n",
    "plt.ylabel(r'$E_1$, $\\Delta$', fontsize=12)\n",
    "plt.title(r\"$L={}\\Delta^{{-1}}, t_L={}, t_R={}, m_{{x}} = {}\\Delta,$\"\\\n",
    "          .format(L, t_L, t_R, mx), fontsize=13)\n"
   ]
  },
  {
   "cell_type": "markdown",
   "id": "2b30d5a0",
   "metadata": {},
   "source": [
    "### Finding transition rates ABS -> ABS"
   ]
  },
  {
   "cell_type": "code",
   "execution_count": null,
   "id": "eefe5dda",
   "metadata": {},
   "outputs": [],
   "source": [
    "# diagonalizing the Hamiltonian: get eigenenergies - ABS, and eigenfunctions\n",
    "\n",
    "def diagonal(x):\n",
    "    \n",
    "    eigval_arr = np.zeros((len(phi_0), 2*l))\n",
    "    eigvec_arr = np.zeros((len(phi_0), 2*l, 2*l), dtype='complex')\n",
    "    \n",
    "    s_L = 1\n",
    "    s_R = -1\n",
    "    zero_m = np.zeros_like(Gamma_L)\n",
    "    \n",
    "    for i in range(len(phi_0)):\n",
    "    \n",
    "        Lambda = -1 / np.sqrt(Delta**2 - x[i]**2) \\\n",
    "            * (x[i] * np.block([[(Gamma_L + Gamma_R), zero_m], [zero_m, (Gamma_L + Gamma_R)]]) \\\n",
    "            - Delta * np.block([[zero_m, np.exp(-1j * s_L * phi_0[i]/2) * Gamma_L], \\\n",
    "                                [np.exp(1j * s_L * phi_0[i]/2) * Gamma_L, zero_m]]) \\\n",
    "            - Delta * np.block([[zero_m, np.exp(-1j * s_R * phi_0[i]/2) * Gamma_R], \\\n",
    "                                [np.exp(1j * s_R * phi_0[i]/2) * Gamma_R, zero_m]]))\n",
    "    \n",
    "        H = np.block([[np.diag(eps_n), zero_m], [zero_m, -np.diag(eps_n)]]) + Lambda\n",
    "    \n",
    "        \n",
    "        eigval_arr[i], eigvec_arr[i] = LA.eigh(H)\n",
    "    \n",
    "    return eigval_arr, eigvec_arr "
   ]
  },
  {
   "cell_type": "code",
   "execution_count": null,
   "id": "e038ea27",
   "metadata": {},
   "outputs": [],
   "source": [
    "eigv_0, eigvec_0 = diagonal(roots[:, 0])\n",
    "eigv_1, eigvec_1 = diagonal(roots[:, 1])"
   ]
  },
  {
   "cell_type": "code",
   "execution_count": null,
   "id": "7f7993c3",
   "metadata": {},
   "outputs": [],
   "source": [
    "# has to be the same plot as the ABS energies obtained from fsolve!\n",
    "\n",
    "plt.plot(phi_0[:]/np.pi, eigv_0[:, 1])\n",
    "plt.plot(phi_0[:]/np.pi, eigv_1[:, 0])\n",
    "\n",
    "plt.grid()\n",
    "plt.xlabel(r'$\\varphi_0$, $\\pi$', fontsize=12)\n",
    "plt.ylabel(r'$E_1$, $\\Delta$', fontsize=12)\n",
    "plt.title(r\"$L={}\\Delta^{{-1}}, t_L={}, t_R={}, m_{{x}} = {}\\Delta,$\"\\\n",
    "          .format(L, t_L, t_R, mx), fontsize=13)"
   ]
  },
  {
   "cell_type": "code",
   "execution_count": null,
   "id": "4e2eb930",
   "metadata": {},
   "outputs": [],
   "source": [
    "# Eigenvectors corresponding to the Andreev energies\n",
    "\n",
    "eta_0 = eigvec_0[:, :, 1]\n",
    "eta_1 = eigvec_1[:, :, 0]\n",
    "\n",
    "\n",
    "eta_arr = np.stack([eta_0, eta_1], axis=0)"
   ]
  },
  {
   "cell_type": "code",
   "execution_count": null,
   "id": "7ce52bdf",
   "metadata": {},
   "outputs": [],
   "source": [
    "def curr_matr(x, i):\n",
    "    \n",
    "    s_L = 1\n",
    "    s_R = -1\n",
    "    zero_m = np.zeros_like(Gamma_L)\n",
    "    \n",
    "    Lambda_L = x * np.block([[Gamma_L , zero_m], [zero_m, Gamma_L]]) \\\n",
    "             - Delta * np.block([[zero_m, np.exp(-1j * s_L * phi_0[i]/2) * Gamma_L], \\\n",
    "                                [np.exp(1j * s_L * phi_0[i]/2) * Gamma_L, zero_m]])\n",
    "    \n",
    "    Lambda_R = x * np.block([[Gamma_R , zero_m], [zero_m, Gamma_R]]) \\\n",
    "             - Delta * np.block([[zero_m, np.exp(-1j * s_R * phi_0[i]/2) * Gamma_R], \\\n",
    "                                [np.exp(1j * s_R * phi_0[i]/2) * Gamma_R, zero_m]])\n",
    "    \n",
    "    I = -1 / np.sqrt(Delta**2 - x**2) / (2*1j) * (s_L * Lambda_L + s_R * Lambda_R)\n",
    "    \n",
    "    return I"
   ]
  },
  {
   "cell_type": "code",
   "execution_count": null,
   "id": "4b04a381",
   "metadata": {},
   "outputs": [],
   "source": [
    "def curr_nl(E_n, E_lamb, eta_n, eta_lamb, i):\n",
    "    \n",
    "    tau_z = np.array([[1, 0], [0, -1]])\n",
    "    \n",
    "    matr = tau_z @ curr_matr(E_lamb, i) - curr_matr(E_n, i) @ tau_z\n",
    "    \n",
    "    return np.conj(eta_n) @ matr @ eta_lamb    "
   ]
  },
  {
   "cell_type": "code",
   "execution_count": null,
   "id": "fdd755be",
   "metadata": {},
   "outputs": [],
   "source": [
    "I_nl = np.zeros((len(phi_0), 2*l, 2*l), dtype='complex')\n",
    "G_nl = np.zeros((len(phi_0), 2*l, 2*l))\n",
    "\n",
    "for i in range(len(phi_0)):\n",
    "    for n in range(2*l):\n",
    "        for lamd in range(2*l):\n",
    "            I_nl[i, n ,lamd] = curr_nl(roots[i, n], roots[i, lamd], eta_arr[n, i], eta_arr[lamd, i], i)"
   ]
  },
  {
   "cell_type": "code",
   "execution_count": null,
   "id": "1f8049e1",
   "metadata": {},
   "outputs": [],
   "source": [
    "# Plot the current matrix elements\n",
    "\n",
    "plt.plot(phi_0/np.pi, np.abs(I_nl[:, 0, 0]))\n",
    "plt.plot(phi_0/np.pi, np.abs(I_nl[:, 1, 0]))"
   ]
  },
  {
   "cell_type": "code",
   "execution_count": null,
   "id": "5338aa4f",
   "metadata": {},
   "outputs": [],
   "source": [
    "for i in range(len(phi_0)):\n",
    "    for n in range(2*l):\n",
    "        for lamd in range(2*l):\n",
    "            \n",
    "            energy_diff = roots[i, n] - roots[i, lamd]\n",
    "            J_spect = spectral_density(energy_diff, lambda_coupl, alpha_0, damping_param, Omega, omega_c)\n",
    "            bose = bose_distrib(energy_diff, T_bos)\n",
    "            \n",
    "            G_nl[i, lamd, n] = 2*np.pi * np.abs(I_nl[i, n, lamd])**2 * J_spect * bose \n",
    "            \n",
    "            if math.isnan(G_nl[i, lamd, n]):\n",
    "                G_nl[i, lamd, n] = 0"
   ]
  },
  {
   "cell_type": "code",
   "execution_count": null,
   "id": "168e4f73",
   "metadata": {},
   "outputs": [],
   "source": [
    "G_AL_pp = np.zeros((len(phi_0), 2, 2))\n",
    "\n",
    "G_AL_pm = np.zeros((len(phi_0), 2, 2))\n",
    "G_AL_pm[:, 0, 1] = G_nl[:, 0, 1]\n",
    "G_AL_pm[:, 1, 0] = G_nl[:, 0, 1]\n",
    "\n",
    "\n",
    "G_AL_mp = np.zeros((len(phi_0), 2, 2))\n",
    "G_AL_mp[:, 0, 1] = G_nl[:, 1, 0]\n",
    "G_AL_mp[:, 1, 0] = G_nl[:, 1, 0]"
   ]
  },
  {
   "cell_type": "code",
   "execution_count": null,
   "id": "820676ba",
   "metadata": {},
   "outputs": [],
   "source": [
    "plt.plot(phi_0/np.pi, G_AL_pm[:, 0, 1], label=r'$\\Gamma_{1\\bar1}$')\n",
    "plt.plot(phi_0/np.pi, G_AL_mp[:, 1, 0], label=r'$\\Gamma_{\\bar1 1}$')\n",
    "\n",
    "\n",
    "plt.legend()\n",
    "plt.grid()"
   ]
  },
  {
   "cell_type": "markdown",
   "id": "fd14783a",
   "metadata": {},
   "source": [
    "### Finding transition rates ABS -> continuum: DOS"
   ]
  },
  {
   "cell_type": "code",
   "execution_count": null,
   "id": "d7c7673b",
   "metadata": {},
   "outputs": [],
   "source": [
    "# # DOS matrix\n",
    "\n",
    "def spectr(x, i):\n",
    "    \n",
    "    eigval_arr = np.zeros((2))\n",
    "    eigvec_arr = np.zeros((2, 2), dtype='complex')\n",
    "    \n",
    "    s_L = 1\n",
    "    s_R = -1\n",
    "    zero_m = np.zeros_like(Gamma_L)\n",
    "    \n",
    "    Lambda = 1 / np.sqrt(x**2 - Delta**2) \\\n",
    "        * (x * np.block([[(Gamma_L + Gamma_R), zero_m], [zero_m, (Gamma_L + Gamma_R)]]) \\\n",
    "        - Delta * np.block([[zero_m, np.exp(-1j * s_L * phi_0[i]/2) * Gamma_L], \\\n",
    "                            [np.exp(1j * s_L * phi_0[i]/2) * Gamma_L, zero_m]]) \\\n",
    "        - Delta * np.block([[zero_m, np.exp(-1j * s_R * phi_0[i]/2) * Gamma_R], \\\n",
    "                            [np.exp(1j * s_R * phi_0[i]/2) * Gamma_R, zero_m]]))\n",
    "\n",
    "    G_R = LA.inv(x * np.eye(2) - np.block([[np.diag(eps_n), zero_m], [zero_m, -np.diag(eps_n)]]) \\\n",
    "          + 1j * np.sign(x) * Lambda)\n",
    "\n",
    "    G_A = np.transpose(np.conj(G_R))\n",
    "\n",
    "    Spectr = 1j * (G_R - G_A)\n",
    "\n",
    "    eigval_arr, eigvec_arr = LA.eigh(Spectr)\n",
    "    \n",
    "    return eigval_arr, eigvec_arr    "
   ]
  },
  {
   "cell_type": "code",
   "execution_count": null,
   "id": "8578ab2a",
   "metadata": {},
   "outputs": [],
   "source": [
    "eigv_c = np.zeros((len(phi_0), 2))\n",
    "eigvect_c = np.zeros((len(phi_0), 2, 2), dtype='complex')\n",
    "\n",
    "for i in range(len(phi_0)):\n",
    "    eigv_c[i], eigvect_c[i] = spectr(1.5, i)"
   ]
  },
  {
   "cell_type": "code",
   "execution_count": null,
   "id": "9b80cb09",
   "metadata": {},
   "outputs": [],
   "source": [
    "plt.plot(phi_0/np.pi, eigv_c[:, 0])\n",
    "plt.plot(phi_0/np.pi, eigv_c[:, 1])"
   ]
  },
  {
   "cell_type": "code",
   "execution_count": null,
   "id": "9e8bd67e",
   "metadata": {},
   "outputs": [],
   "source": [
    "# current matrix for continuum states E > Delta - retarded square root in the denominator\n",
    "\n",
    "def curr_matr_cont(x, i):\n",
    "    \n",
    "    s_L = 1\n",
    "    s_R = -1\n",
    "    zero_m = np.zeros_like(Gamma_L)\n",
    "    \n",
    "    Lambda_L = x * np.block([[Gamma_L , zero_m], [zero_m, Gamma_L]]) \\\n",
    "             - Delta * np.block([[zero_m, np.exp(-1j * s_L * phi_0[i]/2) * Gamma_L], \\\n",
    "                                [np.exp(1j * s_L * phi_0[i]/2) * Gamma_L, zero_m]])\n",
    "    \n",
    "    Lambda_R = x * np.block([[Gamma_R , zero_m], [zero_m, Gamma_R]]) \\\n",
    "             - Delta * np.block([[zero_m, np.exp(-1j * s_R * phi_0[i]/2) * Gamma_R], \\\n",
    "                                [np.exp(1j * s_R * phi_0[i]/2) * Gamma_R, zero_m]])\n",
    "    \n",
    "    I = -1 / (-1j * np.sign(x) * np.sqrt(x**2 - Delta**2)) / (2*1j) \\\n",
    "        * (s_L * Lambda_L + s_R * Lambda_R)\n",
    "    \n",
    "    return I"
   ]
  },
  {
   "cell_type": "code",
   "execution_count": null,
   "id": "24d28310",
   "metadata": {},
   "outputs": [],
   "source": [
    "# continuum current matrix element\n",
    "\n",
    "def curr_cont_nl(E, E_lamd, psi_n, eta_lamd, i):\n",
    "    \n",
    "    tau_z = np.array([[1, 0], [0, -1]])\n",
    "    \n",
    "    matr = tau_z @ curr_matr(E_lamd, i) - curr_matr_cont(E, i) @ tau_z\n",
    "    \n",
    "    return np.conj(psi_n) @ matr @ eta_lamd    "
   ]
  },
  {
   "cell_type": "code",
   "execution_count": null,
   "id": "8d2b93e4",
   "metadata": {},
   "outputs": [],
   "source": [
    "def integr_gamma_out(x, E_lamd, eta_lamd, i, T_bos, T_ferm,\\\n",
    "                    lambda_coupl, alpha_0, damping_param, Omega, omega_c):\n",
    "    \n",
    "    E = x + E_lamd\n",
    "    \n",
    "    # 4 eigenvalues, eigenvectors for continuum state\n",
    "    eigv_E, eigvect_E = spectr(E, i)\n",
    "    \n",
    "    # current elements\n",
    "    I_nl = np.zeros((2), dtype='complex')\n",
    "    \n",
    "    for n in range(2): \n",
    "        I_nl = curr_cont_nl(E, E_lamd, eigvect_E[:, n], eta_lamd, i)\n",
    "        \n",
    "    sum_n = np.sum(eigv_E * np.abs(I_nl)**2)\n",
    "    \n",
    "    n_F = fermi_distrib(E, T_ferm)\n",
    "    n_B = bose_distrib(x, T_bos)\n",
    "    J_sp = spectral_density(x, lambda_coupl, alpha_0, damping_param, Omega, omega_c)\n",
    "    \n",
    "    return J_sp * n_B * (1 - n_F) * sum_n \n",
    "    "
   ]
  },
  {
   "cell_type": "code",
   "execution_count": null,
   "id": "ccea01f3",
   "metadata": {},
   "outputs": [],
   "source": [
    "def integr_gamma_in(x, E_lamd, eta_lamd, i, T_bos, T_ferm,\\\n",
    "                    lambda_coupl, alpha_0, damping_param, Omega, omega_c):\n",
    "    \n",
    "    E = x + E_lamd\n",
    "    \n",
    "    # 4 eigenvalues, eigenvectors for continuum state\n",
    "    eigv_E, eigvect_E = spectr(E, i)\n",
    "    \n",
    "    # current elements\n",
    "    I_nl = np.zeros((2), dtype='complex')\n",
    "    \n",
    "    for n in range(2): \n",
    "        I_nl = curr_cont_nl(E, E_lamd, eigvect_E[:, n], eta_lamd, i)\n",
    "        \n",
    "    sum_n = np.sum(eigv_E * np.abs(I_nl)**2)\n",
    "    \n",
    "    n_F = fermi_distrib(E, T_ferm)\n",
    "    n_B = bose_distrib(x, T_bos)\n",
    "    J_sp = spectral_density(x, lambda_coupl, alpha_0, damping_param, Omega, omega_c)\n",
    "    \n",
    "    return J_sp * (n_B + 1) * n_F * sum_n \n",
    "    "
   ]
  },
  {
   "cell_type": "code",
   "execution_count": null,
   "id": "7f9958a9",
   "metadata": {},
   "outputs": [],
   "source": [
    "def compute_integrals(i, lamd, Delta, roots, eta_arr, T_bos, T_ferm,\\\n",
    "                    lambda_coupl, alpha_0, damping_param, Omega, omega_c):\n",
    "    \n",
    "    Gamma_out_pc = integrate.quad(integr_gamma_out, Delta - roots[i, lamd], np.infty,\n",
    "                                  args=(roots[i, lamd], eta_arr[lamd, i], i, T_bos, T_ferm,\\\n",
    "                    lambda_coupl, alpha_0, damping_param, Omega, omega_c))[0]\n",
    "    Gamma_out_mc = integrate.quad(integr_gamma_out, -np.infty, -Delta - roots[i, lamd],\n",
    "                                  args=(roots[i, lamd], eta_arr[lamd, i], i, T_bos, T_ferm,\\\n",
    "                    lambda_coupl, alpha_0, damping_param, Omega, omega_c))[0]\n",
    "    Gamma_in_pc = integrate.quad(integr_gamma_in, Delta - roots[i, lamd], np.infty,\n",
    "                                 args=(roots[i, lamd], eta_arr[lamd, i], i, T_bos, T_ferm,\\\n",
    "                    lambda_coupl, alpha_0, damping_param, Omega, omega_c))[0]\n",
    "    Gamma_in_mc = integrate.quad(integr_gamma_in, -np.infty, -Delta - roots[i, lamd],\n",
    "                                 args=(roots[i, lamd], eta_arr[lamd, i], i, T_bos, T_ferm,\\\n",
    "                    lambda_coupl, alpha_0, damping_param, Omega, omega_c))[0]\n",
    "    \n",
    "    # Return results as a tuple\n",
    "    return (i, lamd, Gamma_out_pc, Gamma_out_mc, Gamma_in_pc, Gamma_in_mc)"
   ]
  },
  {
   "cell_type": "code",
   "execution_count": null,
   "id": "ff830d59",
   "metadata": {},
   "outputs": [],
   "source": [
    "Gamma_out_pc = np.zeros((len(phi_0), 1))\n",
    "Gamma_out_mc = np.zeros_like(Gamma_out_pc) \n",
    "Gamma_in_pc = np.zeros_like(Gamma_out_pc)\n",
    "Gamma_in_mc = np.zeros_like(Gamma_out_pc)\n",
    "\n",
    "# Use ProcessPoolExecutor for parallel execution\n",
    "with ProcessPoolExecutor() as executor:\n",
    "    \n",
    "    # Create a list of futures by submitting tasks for parallel execution\n",
    "    futures = [executor.submit(compute_integrals, i, lamd, Delta, roots, eta_arr, T_bos, T_ferm,\\\n",
    "                    lambda_coupl, alpha_0, damping_param, Omega, omega_c)\n",
    "               for i in range(mid+1) for lamd in reversed(range(1))]\n",
    "    \n",
    "    # Collect results as they are completed\n",
    "    for future in futures:\n",
    "        i, lamd, out_pc, out_mc, in_pc, in_mc = future.result()\n",
    "        \n",
    "        # Store results in the appropriate arrays\n",
    "        Gamma_out_pc[i, lamd] = out_pc\n",
    "        Gamma_out_mc[i, lamd] = out_mc\n",
    "        Gamma_in_pc[i, lamd] = in_pc\n",
    "        Gamma_in_mc[i, lamd] = in_mc"
   ]
  },
  {
   "cell_type": "code",
   "execution_count": null,
   "id": "4feacae2",
   "metadata": {},
   "outputs": [],
   "source": [
    "Gamma_in = (Gamma_in_pc + Gamma_in_mc) * 2*np.pi\n",
    "Gamma_out = (Gamma_out_pc + Gamma_out_mc) * 2*np.pi\n",
    "\n",
    "Gamma_in[len(phi_0)//2+1:] = Gamma_in[:len(phi_0)//2][::-1]\n",
    "Gamma_out[len(phi_0)//2+1:] = Gamma_out[:len(phi_0)//2][::-1]\n",
    "\n",
    "Gamma_in = np.tile(Gamma_in, 2)\n",
    "Gamma_out = np.tile(Gamma_out, 2)"
   ]
  },
  {
   "cell_type": "code",
   "execution_count": null,
   "id": "6157da68",
   "metadata": {},
   "outputs": [],
   "source": [
    "plt.plot(phi_0/np.pi, Gamma_out[:, 0], label=r'$\\Gamma^{out}_1$')\n",
    "plt.plot(phi_0/np.pi, Gamma_in[:, 0], label=r'$\\Gamma^{in}_1$')\n",
    "\n",
    "plt.plot(phi_0/np.pi, Gamma_out[:, 1], label=r'$\\Gamma^{out}_{2}$')\n",
    "plt.plot(phi_0/np.pi, Gamma_in[:, 1], label=r'$\\Gamma^{in}_{2}$')\n",
    "\n",
    "plt.legend()"
   ]
  },
  {
   "cell_type": "markdown",
   "id": "f5e8ea4e",
   "metadata": {},
   "source": [
    "## Lindblad euqation: steady state"
   ]
  },
  {
   "cell_type": "code",
   "execution_count": null,
   "id": "d7dfc892",
   "metadata": {},
   "outputs": [],
   "source": [
    "N = 2\n",
    "N_state = 2**N"
   ]
  },
  {
   "cell_type": "code",
   "execution_count": null,
   "id": "c574dc15",
   "metadata": {},
   "outputs": [],
   "source": [
    "# function that returns the momentum state (as string) for printing\n",
    "\n",
    "def print_state(n):\n",
    "    \n",
    "    if len(bin(n)[:1:-1]) < N:\n",
    "        new_bin = bin(n)[:1:-1]\n",
    "        for i in range(N - len(bin(n)[:1:-1])):\n",
    "            new_bin += '0'\n",
    "            \n",
    "        return new_bin\n",
    "    else:\n",
    "        return bin(n)[:1:-1]"
   ]
  },
  {
   "cell_type": "code",
   "execution_count": null,
   "id": "32cb89dd",
   "metadata": {},
   "outputs": [],
   "source": [
    "# the momentum vectors < q_i0 ... q_iNk | rho | q_j0 ... q_jNk >, where q's can be either 0 or 1 \n",
    "# in case of fermions - by writing each i and j of the density matrix in the binary representation\n",
    "# we get all possible combinations of occupied/non-occupied Nk momentum states\n",
    "\n",
    "# this function finds whether the q'_iq entry (q = [0, Nk-1] index of the entry in the vector) is occupied or not \n",
    "def n(q, i):\n",
    "    if q > len(bin(i)[:1:-1])-1:\n",
    "        return 0\n",
    "    else:\n",
    "        return int(bin(i)[:1:-1][q])"
   ]
  },
  {
   "cell_type": "code",
   "execution_count": null,
   "id": "3e1efbbf",
   "metadata": {},
   "outputs": [],
   "source": [
    "lvl = np.array(range(N))\n",
    "states = np.array(range(N_state))\n",
    "\n",
    "n_v = np.vectorize(n)\n",
    "\n",
    "nf_h = np.array([n_v(lvl, si) for si in states])"
   ]
  },
  {
   "cell_type": "code",
   "execution_count": null,
   "id": "93075b1b",
   "metadata": {},
   "outputs": [],
   "source": [
    "# steady state\n",
    "Steady_M = np.zeros((len(phi_0), N_state, N_state), dtype='float64') \n",
    "\n",
    "for j in range(len(phi_0)):\n",
    "    \n",
    "    # loop over the raws - as many as there are states - 16\n",
    "    for i in range(N_state):\n",
    "\n",
    "        # loop over 4 levels\n",
    "        for mu in range(2):\n",
    "\n",
    "            n_mu = nf_h[i, mu]\n",
    "\n",
    "            # G_in\n",
    "            Steady_M[j, i, i + (-1)**n_mu * 2**mu] += n_mu * (Gamma_in[j, mu] )\n",
    "\n",
    "            # G_out\n",
    "            Steady_M[j, i, i + (-1)**n_mu * 2**mu] += (1-n_mu) * (Gamma_out[j, mu] )\n",
    "\n",
    "            # G_in, G_out\n",
    "            Steady_M[j, i, i] -= n_mu * (Gamma_out[j, mu]) + \\\n",
    "                                (1-n_mu) * (Gamma_in[j, mu] )\n",
    "\n",
    "    #             loop over lambda' != lamda\n",
    "            for nu in chain(range(mu), range(mu+1, 2)):\n",
    "\n",
    "                n_nu = nf_h[i, nu]\n",
    "\n",
    "                Steady_M[j, i, i + (-1)**n_mu * 2**mu + (-1)**n_nu * 2**nu] += \\\n",
    "                                n_mu * (1-n_nu) * G_AL_pp[j, nu, mu] + \\\n",
    "                                n_mu * n_nu * G_AL_mp[j, nu, mu] + \\\n",
    "                                (1-n_mu) * (1-n_nu) * G_AL_pm[j, nu, mu]\n",
    "\n",
    "                Steady_M[j, i, i] -= (1-n_mu) * n_nu * G_AL_pp[j, nu, mu] + \\\n",
    "                                         (1-n_mu) * (1-n_nu) * G_AL_mp[j, nu, mu] +\\\n",
    "                                         n_mu * n_nu * G_AL_pm[j, nu, mu]\n"
   ]
  },
  {
   "cell_type": "code",
   "execution_count": null,
   "id": "6d9bead9",
   "metadata": {},
   "outputs": [],
   "source": [
    "ns = np.zeros((len(phi_0), 4), dtype='float64')\n",
    "\n",
    "for i in range(len(phi_0)):\n",
    "    ns[i] = null_space(Steady_M[i], rcond=10e-16)[:,0]\n",
    "    \n",
    "    \n",
    "steady_occup = ns\n",
    "steady_occup /= np.sum(steady_occup, axis=1, keepdims=True)"
   ]
  },
  {
   "cell_type": "code",
   "execution_count": null,
   "id": "8d8079b5",
   "metadata": {},
   "outputs": [],
   "source": [
    "for i in range(N_state):\n",
    "    print(nf_h[i], '\\t', steady_occup[1, i])"
   ]
  },
  {
   "cell_type": "code",
   "execution_count": null,
   "id": "780cb4eb",
   "metadata": {},
   "outputs": [],
   "source": [
    "plt.plot(phi_0[:mid]/np.pi, steady_occup[:mid, 0], label=r'$P_{|0\\rangle}$')\n",
    "plt.plot(phi_0[:mid]/np.pi, steady_occup[:mid, 1], label=r'$P_{|\\uparrow \\downarrow \\rangle}$')\n",
    "plt.plot(phi_0[:mid]/np.pi, steady_occup[:mid, 3], label=r'$P_{|1\\rangle}$')\n",
    "\n",
    "\n",
    "\n",
    "plt.xlabel(r'$\\varphi_0, \\pi$', fontsize=12)\n",
    "plt.grid()\n",
    "plt.legend()\n",
    "plt.title(r\"$T_{{qp}}^{{-1}}={}, T_b^{{-1}}={}, \\Omega={}, \\eta_{{d}} = {},$\"\\\n",
    "          .format(beta_ferm, 1/T_bos, Omega, damping_param), fontsize=13)\n",
    "plt.ylim(-0.05, 1)"
   ]
  },
  {
   "cell_type": "code",
   "execution_count": null,
   "id": "f1541a9f",
   "metadata": {},
   "outputs": [],
   "source": [
    "plt.plot(roots[:mid, 0], steady_occup[:mid, 0], label=r'$P_{|0\\rangle}$')\n",
    "plt.plot(roots[:mid, 0], steady_occup[:mid, 1], label=r'$P_{|\\uparrow \\downarrow \\rangle}$')\n",
    "plt.plot(roots[:mid, 0], steady_occup[:mid, 3], label=r'$P_{|1\\rangle}$')\n",
    "\n",
    "\n",
    "\n",
    "plt.xlabel(r'$E_1, \\Delta$', fontsize=12)\n",
    "plt.grid()\n",
    "plt.legend()\n",
    "plt.title(r\"$T_{{qp}}^{{-1}}={}, T_b^{{-1}}={}, \\Omega={}, \\eta_{{d}} = {},$\"\\\n",
    "          .format(beta_ferm, 1/T_bos, Omega, damping_param), fontsize=13)\n",
    "\n",
    "plt.ylim(-0.05, 1)"
   ]
  },
  {
   "cell_type": "code",
   "execution_count": null,
   "id": "4585204f",
   "metadata": {},
   "outputs": [],
   "source": [
    "# Save the occupation prob as a txt file\n",
    "\n",
    "data = pd.DataFrame({\n",
    "    \"phi_0\": phi_0/np.pi,\n",
    "    \"P_00\": steady_occup[:, 0],\n",
    "    \"P_01/P_10\": steady_occup[:, 1],\n",
    "    \"P_11\": steady_occup[:, 3]\n",
    "})\n",
    "\n",
    "# Save the DataFrame to a text file (tab-separated)\n",
    "data.to_csv(\"Popul_1_0.1.txt\", sep=\"\\t\", index=False)"
   ]
  },
  {
   "cell_type": "code",
   "execution_count": null,
   "id": "201b6c18",
   "metadata": {},
   "outputs": [],
   "source": [
    "def rhs1(t, P, i_eq):\n",
    "\n",
    "    # find derivatives of N_state elements\n",
    "    dP = np.zeros(N_state)\n",
    "        \n",
    "    dP = Steady_M[i_eq] @ P\n",
    "        \n",
    "    return dP"
   ]
  },
  {
   "cell_type": "code",
   "execution_count": null,
   "id": "e12d9ead",
   "metadata": {},
   "outputs": [],
   "source": [
    "def compute_tau(i1, i2):\n",
    "    \n",
    "    P0 = steady_occup[i1]\n",
    "    sol_ = solve_ivp(rhs1, (0.0, 1e13), P0, method='LSODA', dense_output=True, args=(i2,))\n",
    "    ts_ = sol_.t\n",
    "    ys_ = np.stack(sol_.y)\n",
    "    \n",
    "    tau = 0  # Default value for tau\n",
    "    for j in range(len(ts_)):\n",
    "        if np.sum(np.abs(ys_[:, j] - steady_occup[i2, :])) < 1e-3:\n",
    "            tau = ts_[j]\n",
    "            break\n",
    "            \n",
    "    return i1, i2, tau"
   ]
  },
  {
   "cell_type": "code",
   "execution_count": null,
   "id": "929af627",
   "metadata": {},
   "outputs": [],
   "source": [
    "tau_arr = np.zeros((len(phi_0), len(phi_0)))\n",
    "\n",
    "# Parallel execution\n",
    "with ProcessPoolExecutor() as executor:\n",
    "    # Submit tasks for all (i1, i2) pairs\n",
    "    futures = [executor.submit(compute_tau, i1, i2) for i1 in range(mid+1) for i2 in range(mid+1)]\n",
    "    \n",
    "    # Collect results and populate tau_arr\n",
    "    for future in futures:\n",
    "        i1, i2, tau = future.result()\n",
    "        tau_arr[i1, i2] = tau"
   ]
  },
  {
   "cell_type": "code",
   "execution_count": null,
   "id": "a992f018",
   "metadata": {},
   "outputs": [],
   "source": [
    "N = len(phi_0)\n",
    "for i in range(mid + 1):\n",
    "    for j in range(mid + 1):\n",
    "        value = tau_arr[i, j]\n",
    "        \n",
    "        # Reflect to the other quadrants\n",
    "        tau_arr[i, N - 1 - j] = value          # Top-right\n",
    "        tau_arr[N - 1 - i, j] = value          # Bottom-left\n",
    "        tau_arr[N - 1 - i, N - 1 - j] = value  # Bottom-right"
   ]
  },
  {
   "cell_type": "code",
   "execution_count": null,
   "id": "00ce0a99",
   "metadata": {},
   "outputs": [],
   "source": [
    "# Plotting the initial trace distance\n",
    "\n",
    "i_st=1\n",
    "i_f = mid\n",
    "\n",
    "P0 = steady_occup[:, np.newaxis]\n",
    "init_trace_dist = np.sum(np.abs(P0 - steady_occup), axis=2)\n",
    "\n",
    "plt.imshow(init_trace_dist[i_st+1:i_f, i_st+1:i_f], extent=[phi_0[i_st+1]/np.pi, phi_0[i_f]/np.pi,\\\n",
    "                                                   phi_0[i_st+1]/np.pi, phi_0[i_f]/np.pi],\n",
    "           origin='lower', aspect='auto', cmap='turbo', vmin=0)\n",
    "plt.title(r\"$L = {}\\Delta^{{-1}}, \\tau = {}, \\eta_d = {}, $\"\\\n",
    "          .format(L, np.round(transp, 2), damping_param)+'\\n'+\n",
    "          r\"$\\Omega={}\\Delta, T_{{qp}}^{{-1}} = {}\\Delta, T_b^{{-1}} = {}\\Delta$\"\\\n",
    "          .format(Omega, beta_ferm, 1/T_bos), fontsize=13)\n",
    "\n",
    "cbar = plt.colorbar()\n",
    "cbar.set_label(r'$\\mathcal{D}_T(0)$')  # Color bar label in log scale\n",
    "\n",
    "# # Uncomment to add contour lines\n",
    "# contour_levels = np.linspace(np.min(init_trace_dist[i_st:i_f, i_st:i_f]), \n",
    "#                              np.max(init_trace_dist[i_st:i_f, i_st:i_f]), 15)\n",
    "# contour = plt.contour(init_trace_dist[i_st:i_f, i_st:i_f],\n",
    "#                       levels=contour_levels,\n",
    "#                       extent=[phi_0[i_st]/np.pi, phi_0[i_f]/np.pi,\n",
    "#                               phi_0[i_st]/np.pi, phi_0[i_f]/np.pi],\n",
    "#                       colors='black', linewidths=0.5)\n",
    "\n",
    "# # Add contour labels (optional)\n",
    "# plt.clabel(contour, inline=True, fontsize=8, fmt=\"%.2f\")\n",
    "\n",
    "# plt.axvline(x=0.65, color='red', linestyle='-', linewidth=1)\n",
    "# plt.axhline(y=0.99, color='red', linestyle='-', linewidth=1)\n",
    "\n",
    "\n",
    "plt.xlabel(r'$\\varphi_{final}, \\pi$')\n",
    "plt.ylabel(r'$\\varphi_{init}, \\pi$')\n",
    "\n",
    "plt.show()"
   ]
  },
  {
   "cell_type": "code",
   "execution_count": null,
   "id": "8dc873a0",
   "metadata": {},
   "outputs": [],
   "source": [
    "# Plotting the relaxation time tau\n",
    "\n",
    "plt.imshow(tau_arr[i_st+25:i_f, i_st+25:i_f], extent=[phi_0[i_st+25]/np.pi, phi_0[i_f]/np.pi,\\\n",
    "                                        phi_0[i_st+25]/np.pi, phi_0[i_f]/np.pi],\\\n",
    "       origin='lower', aspect='auto', cmap='turbo',)\n",
    "\n",
    "\n",
    "plt.colorbar(label=r'$\\tau, \\Delta$')\n",
    "plt.xlabel(r'$\\varphi_{final}, \\pi$')\n",
    "plt.ylabel(r'$\\varphi_{init}, \\pi$')\n",
    "\n",
    "plt.title(r\"$L = {}\\Delta^{{-1}}, \\tau = {}, \\eta_d = {}, $\"\\\n",
    "          .format(L, np.round(transp, 2), damping_param)+'\\n'+\n",
    "          r\"$\\Omega={}\\Delta, T_{{qp}}^{{-1}} = {}\\Delta, T_b^{{-1}} = {}\\Delta$\"\\\n",
    "          .format(Omega, beta_ferm, 1/T_bos), fontsize=13)\n",
    "\n",
    "plt.show()"
   ]
  },
  {
   "cell_type": "code",
   "execution_count": null,
   "id": "5bd04eb6",
   "metadata": {},
   "outputs": [],
   "source": [
    "# Plotting the logsrithm of the relaxation time tau\n",
    "\n",
    "tau_arr_log = np.log10(np.maximum(tau_arr, 10))\n",
    "\n",
    "plt.imshow(tau_arr_log[i_st+1:i_f, i_st+1:i_f], extent=[phi_0[i_st+1]/np.pi, phi_0[i_f]/np.pi,\\\n",
    "                                                    phi_0[i_st+1]/np.pi, phi_0[i_f]/np.pi],\n",
    "           origin='lower', aspect='auto', cmap='viridis', vmin=1)\n",
    "plt.title(r\"$L = {}\\Delta^{{-1}}, \\tau = {}, \\eta_d = {}, $\"\\\n",
    "          .format(L, np.round(transp, 2), damping_param)+'\\n'+\n",
    "          r\"$\\Omega={}\\Delta, T_{{qp}}^{{-1}} = {}\\Delta, T_b^{{-1}} = {}\\Delta$\"\\\n",
    "          .format(Omega, beta_ferm, 1/T_bos), fontsize=13)\n",
    "\n",
    "cbar = plt.colorbar()\n",
    "cbar.set_label(r'$\\log_{10}(\\tau)$')  # Color bar label in log scale\n",
    "\n",
    "\n",
    "plt.xlabel(r'$\\varphi_{final}$')\n",
    "plt.ylabel(r'$\\varphi_{init}$')\n",
    "\n",
    "plt.show()"
   ]
  },
  {
   "cell_type": "code",
   "execution_count": null,
   "id": "0fbd4136",
   "metadata": {},
   "outputs": [],
   "source": [
    "logtau_df = pd.DataFrame(\n",
    "    tau_arr_log[i_st+2:i_f, i_st+2:i_f],\n",
    "    columns=[f\"log_tau_column_{i}\" for i in range(tau_arr_log[i_st+2:i_f, i_st+2:i_f].shape[1])]\n",
    ")\n",
    "\n",
    "# Add a column for phi_0\n",
    "logtau_df.insert(0, \"phi_0\", phi_0[i_st+2:i_f]/np.pi)\n",
    "\n",
    "# Save to a text file\n",
    "logtau_df.to_csv(\"log_tau_0.1.txt\", sep=\"\\t\", index=False)"
   ]
  },
  {
   "cell_type": "code",
   "execution_count": null,
   "id": "bd60efb6",
   "metadata": {},
   "outputs": [],
   "source": [
    "tau_df = pd.DataFrame(\n",
    "    tau_arr[i_st+1:i_f, i_st+1:i_f],\n",
    "    columns=[f\"tau_column_{i}\" for i in range(tau_arr[i_st+1:i_f, i_st+1:i_f].shape[1])]\n",
    ")\n",
    "\n",
    "D0_df = pd.DataFrame(\n",
    "    init_trace_dist[i_st+1:i_f, i_st+1:i_f],\n",
    "    columns=[f\"D0_column_{i}\" for i in range(init_trace_dist[i_st+1:i_f, i_st+1:i_f].shape[1])]\n",
    ")\n",
    "\n",
    "# Add a column for phi_0\n",
    "tau_df.insert(0, \"phi_0\", phi_0[i_st+1:i_f]/np.pi)\n",
    "\n",
    "# Save to a text file\n",
    "tau_df.to_csv(\"tau_0.1.txt\", sep=\"\\t\", index=False)"
   ]
  },
  {
   "cell_type": "code",
   "execution_count": null,
   "id": "9261ee1b",
   "metadata": {},
   "outputs": [],
   "source": [
    "with open(\"tau_0.99.txt\", \"w\") as file:\n",
    "    # Write the header\n",
    "    file.write(\"phi_init phi_f tau D0\\n\")\n",
    "    \n",
    "    # Iterate over the array indices and write the data\n",
    "    for i in range(i_st+1, i_f):\n",
    "        for j in range(i_st+1, i_f):\n",
    "            file.write(f\"{phi_0[i]} {phi_0[j]} {tau_arr[i, j]} {init_trace_dist[i, j]}\\n\")"
   ]
  },
  {
   "cell_type": "markdown",
   "id": "c3ab70a7",
   "metadata": {},
   "source": [
    "### Time evolution with the eigenvalues of the steady state matrix:\n",
    "compare the numerical time evolution to the time evolution given by the eigenvalues/vectors of the\n",
    "steady state population matrix"
   ]
  },
  {
   "cell_type": "code",
   "execution_count": null,
   "id": "430b9531",
   "metadata": {},
   "outputs": [],
   "source": [
    "def eig_M(M):\n",
    "    \n",
    "    eigval_M = np.zeros((4), dtype='complex')\n",
    "    eigvec_M = np.zeros((4, 4), dtype='complex')\n",
    "    \n",
    "    eigval_M, eigvec_M = LA.eig(M)\n",
    "        \n",
    "    return eigval_M, eigvec_M"
   ]
  },
  {
   "cell_type": "code",
   "execution_count": null,
   "id": "60451e77",
   "metadata": {},
   "outputs": [],
   "source": [
    "def find_c(init, eigvec_M):\n",
    "    \n",
    "    coeff = np.zeros((4))\n",
    "    \n",
    "    Matr = np.zeros((4, 4))\n",
    "        \n",
    "    for j in range(4):\n",
    "        Matr[j] = eigvec_M[:, j]\n",
    "            \n",
    "    coeff = init @ LA.inv(Matr)\n",
    "        \n",
    "    return coeff"
   ]
  },
  {
   "cell_type": "code",
   "execution_count": null,
   "id": "a26e7d1b",
   "metadata": {},
   "outputs": [],
   "source": [
    "def time_dep(t, init, eigval_M, eigvec_M):\n",
    "    P_t = np.zeros((4))\n",
    "    coeff = find_c(init, eigvec_M)\n",
    "    \n",
    "    for j in range(4):\n",
    "        P_t[j] = np.sum(np.exp(eigval_M * t) * coeff @ eigvec_M[j, :])\n",
    "        \n",
    "        \n",
    "    return P_t       "
   ]
  },
  {
   "cell_type": "code",
   "execution_count": null,
   "id": "00ddfd4e",
   "metadata": {},
   "outputs": [],
   "source": [
    "eigval_M, eigvec_M = eig_M(Steady_M)\n",
    "for j in range(4):\n",
    "    plt.scatter(phi_0/np.pi, eigval_M[:, j], s=5)"
   ]
  },
  {
   "cell_type": "code",
   "execution_count": null,
   "id": "1210fb3f",
   "metadata": {},
   "outputs": [],
   "source": [
    "time_test = np.linspace(1, 200, num=100)\n",
    "P_t = np.zeros((len(time_test), 4))\n",
    "P_t1 = np.zeros((len(time_test), 4))\n",
    "P_t2 = np.zeros_like(P_t)\n",
    "P_t3 = np.zeros_like(P_t)\n",
    "P_t4 = np.zeros_like(P_t)\n",
    "P_t5 = np.zeros_like(P_t)\n",
    "P_t6 = np.zeros_like(P_t)"
   ]
  },
  {
   "cell_type": "code",
   "execution_count": null,
   "id": "4134f051",
   "metadata": {},
   "outputs": [],
   "source": [
    "for t in range(len(time_test)):\n",
    "    P_t1[t] = time_dep(time_test[t], steady_occup[80], eigval_M[65], eigvec_M[65])\n",
    "    P_t2[t] = time_dep(time_test[t], steady_occup[88], eigval_M[65], eigvec_M[65]) \n",
    "    P_t3[t] = time_dep(time_test[t], steady_occup[90], eigval_M[65], eigvec_M[65]) \n",
    "    P_t[t] = time_dep(time_test[t], steady_occup[93], eigval_M[65], eigvec_M[65])\n",
    "    P_t4[t] = time_dep(time_test[t], steady_occup[97], eigval_M[65], eigvec_M[65])\n",
    "    P_t5[t] = time_dep(time_test[t], steady_occup[100], eigval_M[65], eigvec_M[65])   \n",
    "    P_t6[t] = time_dep(time_test[t], steady_occup[94], eigval_M[65], eigvec_M[65])                    "
   ]
  },
  {
   "cell_type": "code",
   "execution_count": null,
   "id": "2580e14b",
   "metadata": {},
   "outputs": [],
   "source": [
    "def compute_tau_test(i1, i2):\n",
    "    \n",
    "    P0 = steady_occup[i1]\n",
    "    time_test = np.linspace(1, 2000, num=200)\n",
    "    \n",
    "\n",
    "    tau = 0  # Default value for tau\n",
    "    for j in range(len(time_test)):\n",
    "        ys_ = time_dep(time_test[j], P0, eigval_M[i2], eigvec_M[i2])\n",
    "        if np.sum(np.abs(ys_[:] - steady_occup[i2, :])) < 1e-4:\n",
    "            tau = time_test[j]\n",
    "            break\n",
    "            \n",
    "    return i1, i2, tau"
   ]
  },
  {
   "cell_type": "code",
   "execution_count": null,
   "id": "f5e00867",
   "metadata": {},
   "outputs": [],
   "source": [
    "tau_arr_test = np.zeros((len(phi_0), len(phi_0)))"
   ]
  },
  {
   "cell_type": "code",
   "execution_count": null,
   "id": "366bdca6",
   "metadata": {},
   "outputs": [],
   "source": [
    "# Parallel execution\n",
    "with ProcessPoolExecutor() as executor:\n",
    "    # Submit tasks for all (i1, i2) pairs\n",
    "    futures = [executor.submit(compute_tau_test, i1, i2) for i1 in range(mid+1) for i2 in range(mid+1)]\n",
    "    \n",
    "    # Collect results and populate tau_arr\n",
    "    for future in futures:\n",
    "        i1, i2, tau = future.result()\n",
    "        tau_arr_test[i1, i2] = tau\n",
    "\n",
    "# Now tau_arr contains the computed tau values"
   ]
  },
  {
   "cell_type": "code",
   "execution_count": null,
   "id": "34beac01",
   "metadata": {},
   "outputs": [],
   "source": [
    "N = len(phi_0)\n",
    "for i in range(mid + 1):\n",
    "    for j in range(mid + 1):\n",
    "        value = tau_arr_test[i, j]\n",
    "        \n",
    "        # Reflect to the other quadrants\n",
    "        tau_arr_test[i, N - 1 - j] = value          # Top-right\n",
    "        tau_arr_test[N - 1 - i, j] = value          # Bottom-left\n",
    "        tau_arr_test[N - 1 - i, N - 1 - j] = value  # Bottom-right"
   ]
  },
  {
   "cell_type": "markdown",
   "id": "653a298c",
   "metadata": {},
   "source": [
    "### Compute the exact time evolution of each point"
   ]
  },
  {
   "cell_type": "code",
   "execution_count": null,
   "id": "3a4673f9",
   "metadata": {},
   "outputs": [],
   "source": [
    "# Helper function to compute trace distance for each (i1, i2) pair\n",
    "\n",
    "def compute_trace_distance(i1, i2, phi_0, steady_occup):\n",
    "    \n",
    "    time_points = np.linspace(0.0, 450.0, 500)\n",
    "    \n",
    "    P0 = steady_occup[i1]\n",
    "    sol_ = solve_ivp(rhs1, (0.0, 450), P0, method='LSODA', t_eval=time_points, dense_output=True, args=(i2,))\n",
    "    \n",
    "    ts_ = sol_.t\n",
    "    ys_ = np.stack(sol_.y)\n",
    "    \n",
    "    steady_reshaped = np.tile(steady_occup[i2, :, np.newaxis], (1, len(ts_)))\n",
    "    trace_distance = np.sum(np.abs(ys_ - steady_reshaped), axis=0)\n",
    "    \n",
    "    return i1, i2, trace_distance, ts_"
   ]
  },
  {
   "cell_type": "code",
   "execution_count": null,
   "id": "0ca26989",
   "metadata": {},
   "outputs": [],
   "source": [
    "# Initialize trace_dist with the correct shape (assuming it's a 2D array)\n",
    "\n",
    "trace_dist = np.zeros((len(phi_0), len(phi_0)), dtype=object)\n",
    "time = np.zeros((len(phi_0), len(phi_0)), dtype=object)"
   ]
  },
  {
   "cell_type": "code",
   "execution_count": null,
   "id": "2ac71bd7",
   "metadata": {},
   "outputs": [],
   "source": [
    "# Use ProcessPoolExecutor to parallelize the computation\n",
    "\n",
    "with ProcessPoolExecutor() as executor:\n",
    "    futures = [\n",
    "        executor.submit(compute_trace_distance, i1, i2, phi_0, steady_occup)\n",
    "        for i1 in range(len(phi_0))\n",
    "        for i2 in range(len(phi_0))\n",
    "    ]\n",
    "    for future in futures:\n",
    "        i1, i2, trace_distance, ts_ = future.result()\n",
    "        trace_dist[i1][i2] = trace_distance\n",
    "        time[i1][i2] = ts_        "
   ]
  },
  {
   "cell_type": "markdown",
   "id": "8e5ea491",
   "metadata": {},
   "source": [
    "Plot the time evolution"
   ]
  },
  {
   "cell_type": "code",
   "execution_count": null,
   "id": "b4c55b3a",
   "metadata": {},
   "outputs": [],
   "source": [
    "plt.plot(time[60][70], trace_dist[60][70], label=r\"$\\varphi_i = {}, \\varphi_f = {}$\".\\\n",
    "        format(np.round(phi_0[60]/np.pi, 2), np.round(phi_0[70]/np.pi, 2)))\n",
    "\n",
    "plt.plot(time[50][70], trace_dist[50][70], label=r\"$\\varphi_i = {}, \\varphi_f = {}$\".\\\n",
    "        format(np.round(phi_0[50]/np.pi, 2), np.round(phi_0[70]/np.pi, 2)))\n",
    "\n",
    "plt.plot(time[45][70], trace_dist[45][70], label=r\"$\\varphi_i = {}, \\varphi_f = {}$\".\\\n",
    "        format(np.round(phi_0[45]/np.pi, 2), np.round(phi_0[70]/np.pi, 2)))\n",
    "\n",
    "plt.plot(time[41][70], trace_dist[41][70], label=r\"$\\varphi_i = {}, \\varphi_f = {}$\".\\\n",
    "        format(np.round(phi_0[41]/np.pi, 2), np.round(phi_0[70]/np.pi, 2)))\n",
    "\n",
    "plt.plot(time[48][70], trace_dist[48][70], label=r\"$\\varphi_i = {}, \\varphi_f = {}$\".\\\n",
    "        format(np.round(phi_0[48]/np.pi, 2), np.round(phi_0[70]/np.pi, 2)))\n",
    "\n",
    "\n",
    "plt.yscale('log')\n",
    "plt.ylim(10**(-3), 1)\n",
    "plt.xlim(-5, 450)\n",
    "\n",
    "\n",
    "plt.title(r\"$L = {}\\Delta^{{-1}}, \\tau = {}, \\eta_d = {}, $\"\\\n",
    "          .format(L, np.round(transp, 2), damping_param)+'\\n'+\n",
    "          r\"$\\Omega={}\\Delta, T_{{qp}}^{{-1}} = {}\\Delta, T_b^{{-1}} = {}\\Delta$\"\\\n",
    "          .format(Omega, beta_ferm, 1/T_bos), fontsize=13)\n",
    "\n",
    "\n",
    "plt.legend()\n",
    "plt.grid()"
   ]
  },
  {
   "cell_type": "code",
   "execution_count": null,
   "id": "aa832633",
   "metadata": {},
   "outputs": [],
   "source": [
    "plt.plot(time[86][80], trace_dist[86][80], label=r\"$\\varphi_i = {}, \\varphi_f = {}$\".\\\n",
    "        format(np.round(phi_0[86]/np.pi, 2), np.round(phi_0[80]/np.pi, 2)))\n",
    "\n",
    "plt.plot(time[90][80], trace_dist[90][80], label=r\"$\\varphi_i = {}, \\varphi_f = {}$\".\\\n",
    "        format(np.round(phi_0[90]/np.pi, 2), np.round(phi_0[80]/np.pi, 2)))\n",
    "\n",
    "plt.plot(time[93][80], trace_dist[93][80], label=r\"$\\varphi_i = {}, \\varphi_f = {}$\".\\\n",
    "        format(np.round(phi_0[93]/np.pi, 2), np.round(phi_0[80]/np.pi, 2)))\n",
    "\n",
    "plt.plot(time[94][80], trace_dist[94][80], label=r\"$\\varphi_i = {}, \\varphi_f = {}$\".\\\n",
    "        format(np.round(phi_0[94]/np.pi, 2), np.round(phi_0[80]/np.pi, 2)))\n",
    "\n",
    "plt.plot(time[95][80], trace_dist[95][80], label=r\"$\\varphi_i = {}, \\varphi_f = {}$\".\\\n",
    "        format(np.round(phi_0[95]/np.pi, 2), np.round(phi_0[80]/np.pi, 2)))\n",
    "\n",
    "\n",
    "\n",
    "plt.yscale('log')\n",
    "plt.ylim(10**(-3), 1)\n",
    "plt.xlim(-5, 250)\n",
    "\n",
    "\n",
    "plt.title(r\"$L = {}\\Delta^{{-1}}, \\tau = {}, \\eta_d = {}, $\"\\\n",
    "          .format(L, np.round(transp, 2), damping_param)+'\\n'+\n",
    "          r\"$\\Omega={}\\Delta, T_{{qp}}^{{-1}} = {}\\Delta, T_b^{{-1}} = {}\\Delta$\"\\\n",
    "          .format(Omega, beta_ferm, 1/T_bos), fontsize=13)\n",
    "\n",
    "\n",
    "plt.legend()\n",
    "plt.grid()"
   ]
  },
  {
   "cell_type": "code",
   "execution_count": null,
   "id": "bb6d42c9",
   "metadata": {},
   "outputs": [],
   "source": [
    "# Indices for the plots\n",
    "indices = [86, 90, 93, 94, 95]\n",
    "target = 80\n",
    "\n",
    "# Prepare header for CSV\n",
    "header = []\n",
    "for idx in indices:\n",
    "    label = f\"phi_i={np.round(phi_0[idx]/np.pi, 2)}, phi_f={np.round(phi_0[target]/np.pi, 2)},\"\n",
    "    header.extend([f\"{label} t\", f\"{label} D_T(t)\"])\n",
    "\n",
    "# Prepare rows (column-wise arrangement of data)\n",
    "max_length = max(len(time[idx][target]) for idx in indices)\n",
    "rows = []\n",
    "\n",
    "for i in range(max_length):\n",
    "    row = []\n",
    "    for idx in indices:\n",
    "        if i < len(time[idx][target]):\n",
    "            row.extend([time[idx][target][i], trace_dist[idx][target][i]])\n",
    "        else:\n",
    "            row.extend([None, None])  # Fill with None for missing data\n",
    "    rows.append(row)\n",
    "\n",
    "# Save to CSV\n",
    "output_file = \"Dt_data_2.txt\"\n",
    "with open(output_file, mode=\"w\", newline=\"\") as file:\n",
    "    writer = csv.writer(file)\n",
    "    # Write the header\n",
    "    writer.writerow(header)\n",
    "    # Write the rows\n",
    "    writer.writerows(rows)"
   ]
  }
 ],
 "metadata": {
  "kernelspec": {
   "display_name": "Python 3 (ipykernel)",
   "language": "python",
   "name": "python3"
  },
  "language_info": {
   "codemirror_mode": {
    "name": "ipython",
    "version": 3
   },
   "file_extension": ".py",
   "mimetype": "text/x-python",
   "name": "python",
   "nbconvert_exporter": "python",
   "pygments_lexer": "ipython3",
   "version": "3.10.9"
  }
 },
 "nbformat": 4,
 "nbformat_minor": 5
}
