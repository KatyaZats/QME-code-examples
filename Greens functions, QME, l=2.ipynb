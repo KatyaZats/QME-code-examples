{
 "cells": [
  {
   "cell_type": "code",
   "execution_count": null,
   "id": "e0626707",
   "metadata": {},
   "outputs": [],
   "source": [
    "import math\n",
    "import numpy as np\n",
    "import matplotlib.pyplot as plt\n",
    "from numpy import linalg as LA\n",
    "\n",
    "from scipy.integrate import solve_ivp\n",
    "from scipy import integrate\n",
    "from scipy.linalg import null_space\n",
    "\n",
    "from scipy.optimize import fsolve\n",
    "from scipy.integrate import solve_bvp\n",
    "\n",
    "import pickle\n",
    "import pandas as pd\n",
    "import cmath\n",
    "\n",
    "from itertools import chain"
   ]
  },
  {
   "cell_type": "code",
   "execution_count": null,
   "id": "2ef45294",
   "metadata": {},
   "outputs": [],
   "source": [
    "from concurrent.futures import ProcessPoolExecutor"
   ]
  },
  {
   "cell_type": "code",
   "execution_count": null,
   "id": "5c17ae79",
   "metadata": {},
   "outputs": [],
   "source": [
    "%matplotlib notebook"
   ]
  },
  {
   "cell_type": "code",
   "execution_count": null,
   "id": "2b701395",
   "metadata": {},
   "outputs": [],
   "source": [
    "# length\n",
    "L = 1.7\n",
    "\n",
    "# orbital number\n",
    "l = 2\n",
    "\n",
    "# coupling srength left/right\n",
    "t_L = 0.7\n",
    "t_R = t_L\n",
    "\n",
    "# effective mass\n",
    "mx = 5\n",
    "\n",
    "Delta = 1"
   ]
  },
  {
   "cell_type": "code",
   "execution_count": null,
   "id": "25aeb767",
   "metadata": {},
   "outputs": [],
   "source": [
    "phi_0 = np.linspace(0, 2*np.pi, num=101)\n",
    "phi_0[0] = 0.001\n",
    "phi_0[-1] -= 0.001\n",
    "phi_0[50] += 0.001"
   ]
  },
  {
   "cell_type": "code",
   "execution_count": null,
   "id": "8e8cbf2d",
   "metadata": {},
   "outputs": [],
   "source": [
    "lambda_coupl = 0.1 # Andreev-continuum coupling rate\n",
    "damping_param = 0.01 # 0.01\n",
    "Omega = 0.1\n",
    "\n",
    "T_ferm = 0.5\n",
    "T_bos = 0.2\n",
    "\n",
    "alpha_0 = 0.001 # 0.0001\n",
    "omega_c = 1"
   ]
  },
  {
   "cell_type": "code",
   "execution_count": null,
   "id": "5a148ab2",
   "metadata": {},
   "outputs": [],
   "source": [
    "def bose_distrib(x, T):\n",
    "    \"\"\" Bose distribution function that handles large x/T to avoid overflow in the exponent \"\"\"  \n",
    "\n",
    "    y = x / T\n",
    "    cutoff = 500.0  # cutoff to avoid overflow in exp\n",
    "    \n",
    "    if y >= 0:\n",
    "        if y > cutoff:\n",
    "            return 0.0  # for large y, n_B -> 0\n",
    "        else:\n",
    "            return 1.0 / np.expm1(y)  # expm1(y) = exp(y) - 1\n",
    "    else:\n",
    "        y = -y\n",
    "        if y > cutoff:\n",
    "            return -1.0  # for large negative y, expression goes to -1 (since n_B -> 0)\n",
    "        else:\n",
    "            return -1.0 - 1.0 / np.expm1(y)"
   ]
  },
  {
   "cell_type": "code",
   "execution_count": null,
   "id": "2b921f15",
   "metadata": {},
   "outputs": [],
   "source": [
    "def fermi_distrib(x, T):\n",
    "    \"\"\" Fermi distribution function that handles large x/T to avoid overflow in the exponent \"\"\"    \n",
    "    \n",
    "    y = x / T\n",
    "    cutoff = 500.0  # cutoff to avoid overflow in exp\n",
    "    \n",
    "    if y > cutoff:\n",
    "        return 0.0  # for large positive y, 1/(exp(y)+1) -> 0\n",
    "    elif y < -cutoff:\n",
    "        return 1.0  # for large negative y, 1/(exp(y)+1) -> 1\n",
    "    else:\n",
    "        return 1.0 / (np.exp(y) + 1.0)"
   ]
  },
  {
   "cell_type": "code",
   "execution_count": null,
   "id": "2227ace6",
   "metadata": {},
   "outputs": [],
   "source": [
    "# spectral density function\n",
    "\n",
    "def spectral_density(x, lambda_coupl, alpha_0, damping_param, Omega, omega_c):\n",
    "    \n",
    "    J = lambda_coupl**2 * damping_param * (1/((x - Omega)**2 + damping_param**2/4) - \\\n",
    "                                                   1/((x + Omega)**2 + damping_param**2/4))\n",
    "    \n",
    "    J_ohm = alpha_0 * x * np.exp(-np.abs(x)/omega_c)\n",
    "    \n",
    "    return J + J_ohm"
   ]
  },
  {
   "cell_type": "markdown",
   "id": "0c7c8210",
   "metadata": {},
   "source": [
    "### Finding free dot eigenenergies and eigenfunctions -  hopping parameters"
   ]
  },
  {
   "cell_type": "code",
   "execution_count": null,
   "id": "5c39842a",
   "metadata": {},
   "outputs": [],
   "source": [
    "def fun(x, y, p):\n",
    "    k = p[0]\n",
    "    return np.vstack((y[1], -k**2 * y[0]))"
   ]
  },
  {
   "cell_type": "code",
   "execution_count": null,
   "id": "c280a94d",
   "metadata": {},
   "outputs": [],
   "source": [
    "def bc(ya, yb, p):\n",
    "#     k = p[0]\n",
    "\n",
    "# last element - normalization condition (knowing that I will get cos function as a solution)\n",
    "    return np.array([ya[1], yb[1], yb[0] - np.sqrt(2/L)])"
   ]
  },
  {
   "cell_type": "code",
   "execution_count": null,
   "id": "2645064d",
   "metadata": {},
   "outputs": [],
   "source": [
    "# Set up the initial mesh and guess for y\n",
    "\n",
    "x = np.linspace(-L/2, L/2, 10)\n",
    "y = np.zeros((2, x.size))\n",
    "y[0, 1] = 1\n",
    "y[0, 6] = -1"
   ]
  },
  {
   "cell_type": "code",
   "execution_count": null,
   "id": "4bfa3cfc",
   "metadata": {},
   "outputs": [],
   "source": [
    "sol_test = solve_bvp(fun, bc, x, y, p=[np.pi/L])"
   ]
  },
  {
   "cell_type": "code",
   "execution_count": null,
   "id": "f47247f4",
   "metadata": {},
   "outputs": [],
   "source": [
    "# function to find tn at the contacts for the specified l \n",
    "\n",
    "def find_tn(l):\n",
    "    tn = np.zeros((l, 2))\n",
    "    \n",
    "    x = np.linspace(-L/2, L/2, 10)\n",
    "    y = np.zeros((2, x.size))\n",
    "    y[0, 1] = 1\n",
    "    y[0, 6] = -1\n",
    "    \n",
    "    for i in range(l):\n",
    "        sol_i = solve_bvp(fun, bc, x, y, p=[(i+1)*np.pi/L])\n",
    "        \n",
    "        # tn[l, -L/2]\n",
    "        tn[i, 0] = sol_i.sol(-L/2)[0]\n",
    "        \n",
    "        # tn[l, L/2]\n",
    "        tn[i, 1] = sol_i.sol(L/2)[0]\n",
    "        \n",
    "    return tn"
   ]
  },
  {
   "cell_type": "code",
   "execution_count": null,
   "id": "ed87ab76",
   "metadata": {},
   "outputs": [],
   "source": [
    "x_plot = np.linspace(-L/2, L/2, 100)\n",
    "y_plot = sol_test.sol(x_plot)[0]\n",
    "plt.plot(x_plot, y_plot)\n",
    "plt.xlabel(\"x\")\n",
    "plt.ylabel(\"y\")\n",
    "\n",
    "# compare with analytical solution:\n",
    "# sqrt(2/L) * cos(p_n(x-L/2)), p_n = pi*n/L\n",
    "\n",
    "plt.scatter(x_plot, np.sqrt(2/L)*np.cos(np.pi/L*(x_plot - L/2)), s=10)\n",
    "plt.grid()"
   ]
  },
  {
   "cell_type": "code",
   "execution_count": null,
   "id": "3d8e0f47",
   "metadata": {},
   "outputs": [],
   "source": [
    "# hopping parameters\n",
    "\n",
    "tn = find_tn(l)\n",
    "tn = -tn\n",
    "tn"
   ]
  },
  {
   "cell_type": "code",
   "execution_count": null,
   "id": "04a0e2d7",
   "metadata": {},
   "outputs": [],
   "source": [
    "# Calculate G_L, G_R matrices from tn matrix (2 columns of tn are the hopping parameters (L/R) of each level)\n",
    "\n",
    "col_L = tn[:, 0]\n",
    "# pi nu_F?\n",
    "Gamma_L = t_L**2 * np.outer(col_L, col_L)  # Compute the outer product to form a square matrix\n",
    " \n",
    "col_R = tn[:, 1]\n",
    "Gamma_R = t_R**2 * np.outer(col_R, col_R) "
   ]
  },
  {
   "cell_type": "code",
   "execution_count": null,
   "id": "521e82a0",
   "metadata": {},
   "outputs": [],
   "source": [
    "# free dot energies\n",
    "\n",
    "l_values = np.arange(1, l+1)  \n",
    "eps_n = (l_values * np.pi / L)**2 / (2 * mx)"
   ]
  },
  {
   "cell_type": "markdown",
   "id": "ded463ca",
   "metadata": {},
   "source": [
    "### Finding Andreev states"
   ]
  },
  {
   "cell_type": "code",
   "execution_count": null,
   "id": "dfc238b1",
   "metadata": {},
   "outputs": [],
   "source": [
    "def G_inv(x, i):\n",
    "    \n",
    "    s_L = 1\n",
    "    s_R = -1\n",
    "    zero_m = np.zeros_like(Gamma_L)\n",
    "    \n",
    "    Lambda = -1 / np.sqrt(Delta**2 - x**2) \\\n",
    "            * (x * np.block([[(Gamma_L + Gamma_R), zero_m], [zero_m, (Gamma_L + Gamma_R)]]) \\\n",
    "            - Delta * np.block([[zero_m, np.exp(-1j * s_L * phi_0[i]/2) * Gamma_L], \\\n",
    "                                [np.exp(1j * s_L * phi_0[i]/2) * Gamma_L, zero_m]]) \\\n",
    "            - Delta * np.block([[zero_m, np.exp(-1j * s_R * phi_0[i]/2) * Gamma_R], \\\n",
    "                                [np.exp(1j * s_R * phi_0[i]/2) * Gamma_R, zero_m]]))\n",
    "    \n",
    "    G_inv = x * np.eye(4) - np.block([[np.diag(eps_n), zero_m], [zero_m, -np.diag(eps_n)]]) - Lambda\n",
    "    \n",
    "    return LA.det(G_inv)   "
   ]
  },
  {
   "cell_type": "code",
   "execution_count": null,
   "id": "0c24b35a",
   "metadata": {},
   "outputs": [],
   "source": [
    "roots = np.zeros((len(phi_0), 2*l))\n",
    "\n",
    "for i in range(len(phi_0)):\n",
    "  \n",
    "    roots[i, 0] = fsolve(G_inv, 0.5, args=(i))  \n",
    "    roots[i, 1] = fsolve(G_inv, 0.9999, args=(i))  \n",
    "    \n",
    "    roots[i, 2] = fsolve(G_inv, -0.5, args=(i))   \n",
    "    roots[i, 3] = fsolve(G_inv, -0.9999, args=(i))  "
   ]
  },
  {
   "cell_type": "code",
   "execution_count": null,
   "id": "ba3c925d",
   "metadata": {},
   "outputs": [],
   "source": [
    "plt.plot(phi_0/np.pi, roots[:,0], linewidth=1.5)\n",
    "plt.plot(phi_0/np.pi, roots[:,1], linewidth=1.5)\n",
    "\n",
    "\n",
    "plt.title(r\"$t_L={}, t_R={}, m_{{x}} = {}\\Delta,$\"\\\n",
    "          .format(t_L, t_R, mx)+'\\n'+\n",
    "          r\"$\\epsilon_1={}\\Delta, \\epsilon_2 = {}\\Delta, L={}\\Delta^{{-1}}$\"\\\n",
    "          .format(np.round(eps_n[0], 2), np.round(eps_n[1], 2), L), fontsize=13)\n",
    "\n",
    "plt.grid()\n",
    "plt.xlabel(r'$\\varphi$, $\\pi$', fontsize=12)\n",
    "plt.ylabel(r'$E_A$, $\\Delta$', fontsize=12)\n"
   ]
  },
  {
   "cell_type": "markdown",
   "id": "4002d19a",
   "metadata": {},
   "source": [
    "### Finding transition rates ABS -> ABS"
   ]
  },
  {
   "cell_type": "code",
   "execution_count": null,
   "id": "7c5cc856",
   "metadata": {},
   "outputs": [],
   "source": [
    "# diagonalizing Hamiltonian\n",
    "\n",
    "def diagonal(x):\n",
    "    \n",
    "    eigval_arr = np.zeros((len(phi_0), 2*l))\n",
    "    eigvec_arr = np.zeros((len(phi_0), 2*l, 2*l), dtype='complex')\n",
    "    \n",
    "    s_L = 1\n",
    "    s_R = -1\n",
    "    zero_m = np.zeros_like(Gamma_L)\n",
    "    \n",
    "    for i in range(len(phi_0)):\n",
    "    \n",
    "        Lambda = -1 / np.sqrt(Delta**2 - x[i]**2) \\\n",
    "            * (x[i] * np.block([[(Gamma_L + Gamma_R), zero_m], [zero_m, (Gamma_L + Gamma_R)]]) \\\n",
    "            - Delta * np.block([[zero_m, np.exp(-1j * s_L * phi_0[i]/2) * Gamma_L], \\\n",
    "                                [np.exp(1j * s_L * phi_0[i]/2) * Gamma_L, zero_m]]) \\\n",
    "            - Delta * np.block([[zero_m, np.exp(-1j * s_R * phi_0[i]/2) * Gamma_R], \\\n",
    "                                [np.exp(1j * s_R * phi_0[i]/2) * Gamma_R, zero_m]]))\n",
    "    \n",
    "        H = np.block([[np.diag(eps_n), zero_m], [zero_m, -np.diag(eps_n)]]) + Lambda\n",
    "    \n",
    "        \n",
    "        eigval_arr[i], eigvec_arr[i] = LA.eigh(H)\n",
    "    \n",
    "    return eigval_arr, eigvec_arr "
   ]
  },
  {
   "cell_type": "code",
   "execution_count": null,
   "id": "f15b1a55",
   "metadata": {},
   "outputs": [],
   "source": [
    "eigv_0, eigvec_0 = diagonal(roots[:, 0])\n",
    "eigv_1, eigvec_1 = diagonal(roots[:, 1])\n",
    "eigv_2, eigvec_2 = diagonal(roots[:, 2])\n",
    "eigv_3, eigvec_3 = diagonal(roots[:, 3])"
   ]
  },
  {
   "cell_type": "code",
   "execution_count": null,
   "id": "379aec2b",
   "metadata": {},
   "outputs": [],
   "source": [
    "plt.plot(phi_0/np.pi, eigv_0[:, 2])\n",
    "plt.plot(phi_0/np.pi, eigv_1[:, 3])\n",
    "\n",
    "\n",
    "plt.plot(phi_0/np.pi, eigv_2[:, 1])\n",
    "plt.plot(phi_0/np.pi, eigv_3[:, 0])\n",
    "plt.grid()"
   ]
  },
  {
   "cell_type": "code",
   "execution_count": null,
   "id": "ad686dcc",
   "metadata": {},
   "outputs": [],
   "source": [
    "# Eigenvectors corresponding to the Andreev energies\n",
    "\n",
    "eta_0 = eigvec_0[:, :, 2]\n",
    "eta_1 = eigvec_1[:, :, 3]\n",
    "eta_2 = eigvec_2[:, :, 1]\n",
    "eta_3 = eigvec_3[:, :, 0]\n",
    "\n",
    "eta_arr = np.stack([eta_0, eta_1, eta_2, eta_3], axis=0)"
   ]
  },
  {
   "cell_type": "code",
   "execution_count": null,
   "id": "6a34de05",
   "metadata": {},
   "outputs": [],
   "source": [
    "def curr_matr(x, i):\n",
    "    \n",
    "    s_L = 1\n",
    "    s_R = -1\n",
    "    zero_m = np.zeros_like(Gamma_L)\n",
    "    \n",
    "    Lambda_L = x * np.block([[Gamma_L , zero_m], [zero_m, Gamma_L]]) \\\n",
    "             - Delta * np.block([[zero_m, np.exp(-1j * s_L * phi_0[i]/2) * Gamma_L], \\\n",
    "                                [np.exp(1j * s_L * phi_0[i]/2) * Gamma_L, zero_m]])\n",
    "    \n",
    "    Lambda_R = x * np.block([[Gamma_R , zero_m], [zero_m, Gamma_R]]) \\\n",
    "             - Delta * np.block([[zero_m, np.exp(-1j * s_R * phi_0[i]/2) * Gamma_R], \\\n",
    "                                [np.exp(1j * s_R * phi_0[i]/2) * Gamma_R, zero_m]])\n",
    "    \n",
    "    I = -1 / np.sqrt(Delta**2 - x**2) / (2*1j) * (s_L * Lambda_L + s_R * Lambda_R)\n",
    "    \n",
    "    return I"
   ]
  },
  {
   "cell_type": "code",
   "execution_count": null,
   "id": "4859d108",
   "metadata": {},
   "outputs": [],
   "source": [
    "def curr_nl(E_n, E_lamb, eta_n, eta_lamb, i):\n",
    "    \n",
    "    tau_z = np.array([[1, 0, 0, 0], [0, 1, 0, 0], [0, 0, -1, 0], [0, 0, 0, -1]])\n",
    "    \n",
    "    matr = tau_z @ curr_matr(E_lamb, i) - curr_matr(E_n, i) @ tau_z\n",
    "    \n",
    "    return np.conj(eta_n) @ matr @ eta_lamb    "
   ]
  },
  {
   "cell_type": "code",
   "execution_count": null,
   "id": "8a58d976",
   "metadata": {},
   "outputs": [],
   "source": [
    "I_nl = np.zeros((len(phi_0), 2*l, 2*l), dtype='complex')\n",
    "G_nl = np.zeros((len(phi_0), 2*l, 2*l))\n",
    "\n",
    "for i in range(len(phi_0)):\n",
    "    for n in range(2*l):\n",
    "        for lamd in range(2*l):\n",
    "            I_nl[i, n ,lamd] = curr_nl(roots[i, n], roots[i, lamd], eta_arr[n, i], eta_arr[lamd, i], i)"
   ]
  },
  {
   "cell_type": "code",
   "execution_count": null,
   "id": "4c646a84",
   "metadata": {},
   "outputs": [],
   "source": [
    "plt.plot(phi_0/np.pi, np.abs(I_nl[:, 3, 2]))\n",
    "plt.plot(phi_0/np.pi, np.abs(I_nl[:, 2, 3]))\n",
    "\n",
    "plt.plot(phi_0/np.pi, np.abs(I_nl[:, 1, 0]))\n",
    "plt.plot(phi_0/np.pi, np.abs(I_nl[:, 0, 1]))"
   ]
  },
  {
   "cell_type": "code",
   "execution_count": null,
   "id": "31f5c589",
   "metadata": {},
   "outputs": [],
   "source": [
    "for i in range(len(phi_0)):\n",
    "    for n in range(2*l):\n",
    "        for lamd in range(2*l):\n",
    "            \n",
    "            energy_diff = roots[i, n] - roots[i, lamd]\n",
    "            J_spect = spectral_density(energy_diff, lambda_coupl, alpha_0, damping_param, Omega, omega_c)\n",
    "            bose = bose_distrib(energy_diff, T_bos)\n",
    "            \n",
    "            G_nl[i, lamd, n] = 2*np.pi * np.abs(I_nl[i, n, lamd])**2 * J_spect * bose \n",
    "            \n",
    "            if math.isnan(G_nl[i, lamd, n]):\n",
    "                G_nl[i, lamd, n] = 0"
   ]
  },
  {
   "cell_type": "code",
   "execution_count": null,
   "id": "1296140f",
   "metadata": {},
   "outputs": [],
   "source": [
    "# trans rates 0,1,2,3 -> 0,1,2,3\n",
    "\n",
    "G_AL_pp = np.zeros((len(phi_0), 4, 4))\n",
    "G_AL_pp[:, 0:2, 0:2] = G_nl[:, 0:2, 0:2]\n",
    "G_AL_pp[:, 2:4, 2:4] = G_nl[:, 0:2, 0:2]\n",
    "\n",
    "# trans rates 0,1,2,3 -> -0,-1,-2,-3\n",
    "\n",
    "G_AL_pm = np.zeros((len(phi_0), 4, 4))\n",
    "G_AL_pm[:, 0:2, 2:4] = G_nl[:, 0:2, 2:4]\n",
    "G_AL_pm[:, 2:4, 0:2] = G_nl[:, 0:2, 2:4]\n",
    "\n",
    "\n",
    "# trans rates -0,-1,-2,-3 -> 0,1,2,3\n",
    "\n",
    "G_AL_mp = np.zeros((len(phi_0), 4, 4))\n",
    "G_AL_mp[:, 2:4, 0:2] = G_nl[:, 2:4, 0:2]\n",
    "G_AL_mp[:, 0:2, 2:4] = G_nl[:, 2:4, 0:2]"
   ]
  },
  {
   "cell_type": "code",
   "execution_count": null,
   "id": "176d1624",
   "metadata": {},
   "outputs": [],
   "source": [
    "plt.plot(phi_0/np.pi, G_AL_pp[:, 0, 1], label=r'$\\Gamma_{12}$')\n",
    "plt.plot(phi_0/np.pi, G_AL_pp[:, 1, 0], label=r'$\\Gamma_{21}$')\n",
    "\n",
    "plt.plot(phi_0/np.pi, G_AL_pm[:, 0, 2], label=r'$\\Gamma_{1\\bar1}$')\n",
    "plt.plot(phi_0/np.pi, G_AL_pm[:, 0, 3], label=r'$\\Gamma_{1\\bar2} = \\Gamma_{2\\bar1}$')\n",
    "plt.plot(phi_0/np.pi, G_AL_pm[:, 1, 3], label=r'$\\Gamma_{2\\bar2}$')\n",
    "\n",
    "plt.plot(phi_0/np.pi, G_AL_mp[:, 0, 2], label=r'$\\Gamma_{\\bar1 1}$')\n",
    "plt.plot(phi_0/np.pi, G_AL_mp[:, 0, 3], label=r'$\\Gamma_{\\bar1 2} = \\Gamma_{\\bar2 1}$')\n",
    "plt.plot(phi_0/np.pi, G_AL_mp[:, 1, 3], label=r'$\\Gamma_{\\bar2 2}$')\n",
    "\n",
    "\n",
    "plt.legend()"
   ]
  },
  {
   "cell_type": "markdown",
   "id": "1ba88cba",
   "metadata": {},
   "source": [
    "### Finding transition rates ABS -> continuum: DOS"
   ]
  },
  {
   "cell_type": "code",
   "execution_count": null,
   "id": "fdc28ee3",
   "metadata": {},
   "outputs": [],
   "source": [
    "# DOS matrix\n",
    "\n",
    "def spectr(x, i):\n",
    "    \n",
    "    eigval_arr = np.zeros((4))\n",
    "    eigvec_arr = np.zeros((4, 4), dtype='complex')\n",
    "    \n",
    "    s_L = 1\n",
    "    s_R = -1\n",
    "    zero_m = np.zeros_like(Gamma_L)\n",
    "    \n",
    "    Lambda = 1 / np.sqrt(x**2 - Delta**2) \\\n",
    "        * (x * np.block([[(Gamma_L + Gamma_R), zero_m], [zero_m, (Gamma_L + Gamma_R)]]) \\\n",
    "        - Delta * np.block([[zero_m, np.exp(-1j * s_L * phi_0[i]/2) * Gamma_L], \\\n",
    "                            [np.exp(1j * s_L * phi_0[i]/2) * Gamma_L, zero_m]]) \\\n",
    "        - Delta * np.block([[zero_m, np.exp(-1j * s_R * phi_0[i]/2) * Gamma_R], \\\n",
    "                            [np.exp(1j * s_R * phi_0[i]/2) * Gamma_R, zero_m]]))\n",
    "\n",
    "    G_R = LA.inv(x * np.eye(4) - np.block([[np.diag(eps_n), zero_m], [zero_m, -np.diag(eps_n)]]) \\\n",
    "          + 1j * np.sign(x) * Lambda)\n",
    "\n",
    "    G_A = np.transpose(np.conj(G_R))\n",
    "\n",
    "    Spectr = 1j * (G_R - G_A)\n",
    "\n",
    "    eigval_arr, eigvec_arr = LA.eigh(Spectr)\n",
    "    \n",
    "    return eigval_arr, eigvec_arr    "
   ]
  },
  {
   "cell_type": "code",
   "execution_count": null,
   "id": "5f716ca3",
   "metadata": {},
   "outputs": [],
   "source": [
    "eigv_c = np.zeros((len(phi_0), 4))\n",
    "eigvect_c = np.zeros((len(phi_0), 4, 4), dtype='complex')\n",
    "\n",
    "for i in range(len(phi_0)):\n",
    "    eigv_c[i], eigvect_c[i] = spectr(-1.1, i)"
   ]
  },
  {
   "cell_type": "code",
   "execution_count": null,
   "id": "5c441ffd",
   "metadata": {},
   "outputs": [],
   "source": [
    "plt.plot(phi_0/np.pi, eigv_c[:, 0])\n",
    "plt.plot(phi_0/np.pi, eigv_c[:, 1])\n",
    "plt.plot(phi_0/np.pi, eigv_c[:, 2])\n",
    "plt.plot(phi_0/np.pi, eigv_c[:, 3])"
   ]
  },
  {
   "cell_type": "code",
   "execution_count": null,
   "id": "6cf4264b",
   "metadata": {},
   "outputs": [],
   "source": [
    "# current matrix for continuum states E > Delta - retarded square root in the denominator\n",
    "\n",
    "def curr_matr_cont(x, i):\n",
    "    \n",
    "    s_L = 1\n",
    "    s_R = -1\n",
    "    zero_m = np.zeros_like(Gamma_L)\n",
    "    \n",
    "    Lambda_L = x * np.block([[Gamma_L , zero_m], [zero_m, Gamma_L]]) \\\n",
    "             - Delta * np.block([[zero_m, np.exp(-1j * s_L * phi_0[i]/2) * Gamma_L], \\\n",
    "                                [np.exp(1j * s_L * phi_0[i]/2) * Gamma_L, zero_m]])\n",
    "    \n",
    "    Lambda_R = x * np.block([[Gamma_R , zero_m], [zero_m, Gamma_R]]) \\\n",
    "             - Delta * np.block([[zero_m, np.exp(-1j * s_R * phi_0[i]/2) * Gamma_R], \\\n",
    "                                [np.exp(1j * s_R * phi_0[i]/2) * Gamma_R, zero_m]])\n",
    "    \n",
    "    I = -1 / (-1j * np.sign(x) * np.sqrt(x**2 - Delta**2)) / (2*1j) \\\n",
    "        * (s_L * Lambda_L + s_R * Lambda_R)\n",
    "    \n",
    "    return I"
   ]
  },
  {
   "cell_type": "code",
   "execution_count": null,
   "id": "bbbd8387",
   "metadata": {},
   "outputs": [],
   "source": [
    "# continuum current matrix element\n",
    "\n",
    "def curr_cont_nl(E, E_lamd, psi_n, eta_lamd, i):\n",
    "    \n",
    "    tau_z = np.array([[1, 0, 0, 0], [0, 1, 0, 0], [0, 0, -1, 0], [0, 0, 0, -1]])\n",
    "    \n",
    "    matr = tau_z @ curr_matr(E_lamd, i) - curr_matr_cont(E, i) @ tau_z\n",
    "    \n",
    "    return np.conj(psi_n) @ matr @ eta_lamd    "
   ]
  },
  {
   "cell_type": "code",
   "execution_count": null,
   "id": "8bf93de2",
   "metadata": {},
   "outputs": [],
   "source": [
    "def integr_gamma_out(x, E_lamd, eta_lamd, i, T_bos, T_ferm,\\\n",
    "                    lambda_coupl, alpha_0, damping_param, Omega, omega_c):\n",
    "    \n",
    "    E = x + E_lamd\n",
    "    \n",
    "    # 4 eigenvalues, eigenvectors for continuum state\n",
    "    eigv_E, eigvect_E = spectr(E, i)\n",
    "    \n",
    "    # current elements\n",
    "    I_nl = np.zeros((4), dtype='complex')\n",
    "    \n",
    "    for n in range(4): \n",
    "        I_nl = curr_cont_nl(E, E_lamd, eigvect_E[:, n], eta_lamd, i)\n",
    "        \n",
    "    sum_n = np.sum(eigv_E * np.abs(I_nl)**2)\n",
    "    \n",
    "    n_F = fermi_distrib(E, T_ferm)\n",
    "    n_B = bose_distrib(x, T_bos)\n",
    "    J_sp = spectral_density(x, lambda_coupl, alpha_0, damping_param, Omega, omega_c)\n",
    "    \n",
    "    return J_sp * n_B * (1 - n_F) * sum_n \n",
    "    "
   ]
  },
  {
   "cell_type": "code",
   "execution_count": null,
   "id": "331ca471",
   "metadata": {},
   "outputs": [],
   "source": [
    "def integr_gamma_in(x, E_lamd, eta_lamd, i, T_bos, T_ferm,\\\n",
    "                    lambda_coupl, alpha_0, damping_param, Omega, omega_c):\n",
    "    \n",
    "    E = x + E_lamd\n",
    "    \n",
    "    # 4 eigenvalues, eigenvectors for continuum state\n",
    "    eigv_E, eigvect_E = spectr(E, i)\n",
    "    \n",
    "    # current elements\n",
    "    I_nl = np.zeros((4), dtype='complex')\n",
    "    \n",
    "    for n in range(4): \n",
    "        I_nl = curr_cont_nl(E, E_lamd, eigvect_E[:, n], eta_lamd, i)\n",
    "        \n",
    "    sum_n = np.sum(eigv_E * np.abs(I_nl)**2)\n",
    "    \n",
    "    n_F = fermi_distrib(E, T_ferm)\n",
    "    n_B = bose_distrib(x, T_bos)\n",
    "    J_sp = spectral_density(x, lambda_coupl, alpha_0, damping_param, Omega, omega_c)\n",
    "    \n",
    "    return J_sp * (n_B + 1) * n_F * sum_n \n",
    "    "
   ]
  },
  {
   "cell_type": "code",
   "execution_count": null,
   "id": "a523fff8",
   "metadata": {},
   "outputs": [],
   "source": [
    "def integr_gamma(x, E_lamd, eta_lamd, i):\n",
    "    \n",
    "    E = x + E_lamd\n",
    "    \n",
    "    # 4 eigenvalues, eigenvectors for continuum state\n",
    "    eigv_E, eigvect_E = spectr(E, i)\n",
    "    \n",
    "    # current elements\n",
    "    I_nl = np.zeros((4), dtype='complex')\n",
    "    \n",
    "    for n in range(4): \n",
    "        I_nl = curr_cont_nl(E, E_lamd, eigvect_E[:, n], eta_lamd, i)\n",
    "        \n",
    "    sum_n = np.sum(eigv_E * np.abs(I_nl)**2)\n",
    "    \n",
    "    n_F = fermi_distrib(E, T_ferm)\n",
    "    n_B = bose_distrib(x, T_bos)\n",
    "    J_sp = spectral_density(x, lambda_coupl, alpha_0, damping_param, Omega, omega_c)\n",
    "    \n",
    "    G_out = J_sp * n_B * (1 - n_F) * sum_n\n",
    "    G_in = J_sp * (n_B + 1) * n_F * sum_n\n",
    "    \n",
    "    return np.array([G_out, G_in])\n",
    "\n",
    "    "
   ]
  },
  {
   "cell_type": "markdown",
   "id": "2453a80a",
   "metadata": {},
   "source": [
    "Calculate $\\Gamma_{\\lambda}^{\\text{out/in}}$ for each Andreev level $\\lambda \\in 2l$:"
   ]
  },
  {
   "cell_type": "code",
   "execution_count": null,
   "id": "a43d5e33",
   "metadata": {},
   "outputs": [],
   "source": [
    "Gamma_out_pc = np.zeros((len(phi_0), 2))\n",
    "Gamma_out_mc = np.zeros_like(Gamma_out_pc) \n",
    "Gamma_in_pc = np.zeros_like(Gamma_out_pc)\n",
    "Gamma_in_mc = np.zeros_like(Gamma_out_pc)"
   ]
  },
  {
   "cell_type": "code",
   "execution_count": null,
   "id": "c165183b",
   "metadata": {},
   "outputs": [],
   "source": [
    "def compute_integrals(i, lamd, Delta, roots, eta_arr, T_bos, T_ferm,\\\n",
    "                    lambda_coupl, alpha_0, damping_param, Omega, omega_c):\n",
    "    \n",
    "    Gamma_out_pc = integrate.quad(integr_gamma_out, Delta - roots[i, lamd], np.infty,\n",
    "                                  args=(roots[i, lamd], eta_arr[lamd, i], i, T_bos, T_ferm,\\\n",
    "                    lambda_coupl, alpha_0, damping_param, Omega, omega_c))[0]\n",
    "    Gamma_out_mc = integrate.quad(integr_gamma_out, -np.infty, -Delta - roots[i, lamd],\n",
    "                                  args=(roots[i, lamd], eta_arr[lamd, i], i, T_bos, T_ferm,\\\n",
    "                    lambda_coupl, alpha_0, damping_param, Omega, omega_c))[0]\n",
    "    Gamma_in_pc = integrate.quad(integr_gamma_in, Delta - roots[i, lamd], np.infty,\n",
    "                                 args=(roots[i, lamd], eta_arr[lamd, i], i, T_bos, T_ferm,\\\n",
    "                    lambda_coupl, alpha_0, damping_param, Omega, omega_c))[0]\n",
    "    Gamma_in_mc = integrate.quad(integr_gamma_in, -np.infty, -Delta - roots[i, lamd],\n",
    "                                 args=(roots[i, lamd], eta_arr[lamd, i], i, T_bos, T_ferm,\\\n",
    "                    lambda_coupl, alpha_0, damping_param, Omega, omega_c))[0]\n",
    "    \n",
    "    # Return results as a tuple\n",
    "    return (i, lamd, Gamma_out_pc, Gamma_out_mc, Gamma_in_pc, Gamma_in_mc)"
   ]
  },
  {
   "cell_type": "code",
   "execution_count": null,
   "id": "0ad69243",
   "metadata": {},
   "outputs": [],
   "source": [
    "# Use ProcessPoolExecutor for parallel execution\n",
    "with ProcessPoolExecutor() as executor:\n",
    "    \n",
    "    # Create a list of futures by submitting tasks for parallel execution\n",
    "    futures = [executor.submit(compute_integrals, i, lamd, Delta, roots, eta_arr, T_bos, T_ferm,\\\n",
    "                    lambda_coupl, alpha_0, damping_param, Omega, omega_c)\n",
    "               for i in range(len(phi_0)) for lamd in reversed(range(2))]\n",
    "    \n",
    "    # Collect results as they are completed\n",
    "    for future in futures:\n",
    "        i, lamd, out_pc, out_mc, in_pc, in_mc = future.result()\n",
    "        \n",
    "        # Store results in the appropriate arrays\n",
    "        Gamma_out_pc[i, lamd] = out_pc\n",
    "        Gamma_out_mc[i, lamd] = out_mc\n",
    "        Gamma_in_pc[i, lamd] = in_pc\n",
    "        Gamma_in_mc[i, lamd] = in_mc"
   ]
  },
  {
   "cell_type": "code",
   "execution_count": null,
   "id": "04a092e3",
   "metadata": {},
   "outputs": [],
   "source": [
    "Gamma_in = (Gamma_in_pc + Gamma_in_mc) * 2*np.pi\n",
    "Gamma_out = (Gamma_out_pc + Gamma_out_mc) * 2*np.pi\n",
    "\n",
    "Gamma_in = np.tile(Gamma_in, 2)\n",
    "Gamma_out = np.tile(Gamma_out, 2)"
   ]
  },
  {
   "cell_type": "code",
   "execution_count": null,
   "id": "6229cef2",
   "metadata": {},
   "outputs": [],
   "source": [
    "plt.plot(phi_0/np.pi, Gamma_out[:, 0], label=r'$\\Gamma^{out}_1$')\n",
    "plt.plot(phi_0/np.pi, Gamma_in[:, 0], label=r'$\\Gamma^{in}_1$')\n",
    "\n",
    "plt.plot(phi_0/np.pi, Gamma_out[:, 1], label=r'$\\Gamma^{out}_{2}$')\n",
    "plt.plot(phi_0/np.pi, Gamma_in[:, 1], label=r'$\\Gamma^{in}_{2}$')\n",
    "\n",
    "plt.legend()"
   ]
  },
  {
   "cell_type": "code",
   "execution_count": null,
   "id": "6ceec576",
   "metadata": {},
   "outputs": [],
   "source": [
    "plt.scatter(roots[:, 0], Gamma_out[:, 0], label=r'$\\Gamma^{out}_0$', s=8)\n",
    "plt.scatter(roots[:, 0], Gamma_in[:, 0], label=r'$\\Gamma^{in}_0$', s=8)\n",
    "plt.scatter(roots[:, 1], Gamma_out[:, 1], label=r'$\\Gamma^{out}_1$', s=8)\n",
    "plt.scatter(roots[:, 1], Gamma_in[:, 1], label=r'$\\Gamma^{in}_1$', s=8)\n",
    "\n",
    "plt.legend()\n",
    "plt.grid()\n",
    "plt.yscale(\"log\")"
   ]
  },
  {
   "cell_type": "markdown",
   "id": "67e31bc1",
   "metadata": {},
   "source": [
    "## Lindblad euqation: steady state"
   ]
  },
  {
   "cell_type": "code",
   "execution_count": null,
   "id": "3348c89e",
   "metadata": {},
   "outputs": [],
   "source": [
    "N = 4\n",
    "N_state = 2**N"
   ]
  },
  {
   "cell_type": "code",
   "execution_count": null,
   "id": "9a7ddb4c",
   "metadata": {},
   "outputs": [],
   "source": [
    "# function that returns the momentum state (as string) for printing\n",
    "\n",
    "def print_state(n):\n",
    "    \n",
    "    if len(bin(n)[:1:-1]) < N:\n",
    "        new_bin = bin(n)[:1:-1]\n",
    "        for i in range(N - len(bin(n)[:1:-1])):\n",
    "            new_bin += '0'\n",
    "            \n",
    "        return new_bin\n",
    "    else:\n",
    "        return bin(n)[:1:-1]"
   ]
  },
  {
   "cell_type": "code",
   "execution_count": null,
   "id": "e270c85c",
   "metadata": {},
   "outputs": [],
   "source": [
    "# the momentum vectors < q_i0 ... q_iNk | rho | q_j0 ... q_jNk >, where q's can be either 0 or 1 \n",
    "# in case of fermions - by writing each i and j of the density matrix in the binary representation\n",
    "# we get all possible combinations of occupied/non-occupied Nk momentum states\n",
    "\n",
    "# this function finds whether the q'_iq entry (q = [0, Nk-1] index of the entry in the vector) is occupied or not \n",
    "def n(q, i):\n",
    "    if q > len(bin(i)[:1:-1])-1:\n",
    "        return 0\n",
    "    else:\n",
    "        return int(bin(i)[:1:-1][q])"
   ]
  },
  {
   "cell_type": "code",
   "execution_count": null,
   "id": "ee44829f",
   "metadata": {},
   "outputs": [],
   "source": [
    "lvl = np.array(range(N))\n",
    "states = np.array(range(N_state))\n",
    "\n",
    "n_v = np.vectorize(n)\n",
    "\n",
    "nf_h = np.array([n_v(lvl, si) for si in states])"
   ]
  },
  {
   "cell_type": "code",
   "execution_count": null,
   "id": "ce7bafe5",
   "metadata": {},
   "outputs": [],
   "source": [
    "# steady state\n",
    "Steady_M = np.zeros((len(phi_0), N_state, N_state), dtype='float64') \n",
    "\n",
    "for j in range(len(phi_0)):\n",
    "    \n",
    "    # loop over the raws - as many as there are states - 16\n",
    "    for i in range(N_state):\n",
    "\n",
    "        # loop over 4 levels\n",
    "        for mu in range(4):\n",
    "\n",
    "            n_mu = nf_h[i, mu]\n",
    "\n",
    "            # G_in\n",
    "            Steady_M[j, i, i + (-1)**n_mu * 2**mu] += n_mu * (Gamma_in[j, mu] )\n",
    "\n",
    "            # G_out\n",
    "            Steady_M[j, i, i + (-1)**n_mu * 2**mu] += (1-n_mu) * (Gamma_out[j, mu] )\n",
    "\n",
    "            # G_in, G_out\n",
    "            Steady_M[j, i, i] -= n_mu * (Gamma_out[j, mu]) + \\\n",
    "                                (1-n_mu) * (Gamma_in[j, mu] )\n",
    "\n",
    "    #             loop over lambda' != lamda\n",
    "            for nu in chain(range(mu), range(mu+1, 4)):\n",
    "\n",
    "                n_nu = nf_h[i, nu]\n",
    "\n",
    "                Steady_M[j, i, i + (-1)**n_mu * 2**mu + (-1)**n_nu * 2**nu] += \\\n",
    "                                n_mu * (1-n_nu) * G_AL_pp[j, nu, mu] + \\\n",
    "                                n_mu * n_nu * G_AL_mp[j, nu, mu] + \\\n",
    "                                (1-n_mu) * (1-n_nu) * G_AL_pm[j, nu, mu]\n",
    "\n",
    "                Steady_M[j, i, i] -= (1-n_mu) * n_nu * G_AL_pp[j, nu, mu] + \\\n",
    "                                         (1-n_mu) * (1-n_nu) * G_AL_mp[j, nu, mu] +\\\n",
    "                                         n_mu * n_nu * G_AL_pm[j, nu, mu]\n"
   ]
  },
  {
   "cell_type": "code",
   "execution_count": null,
   "id": "e452bbd2",
   "metadata": {},
   "outputs": [],
   "source": [
    "def eig_M(M):\n",
    "    \n",
    "    eigval_M = np.zeros((16), dtype='complex')\n",
    "    eigvec_M = np.zeros((16, 16), dtype='complex')\n",
    "    \n",
    "    eigval_M, eigvec_M = LA.eig(M)\n",
    "        \n",
    "    return eigval_M, eigvec_M"
   ]
  },
  {
   "cell_type": "code",
   "execution_count": null,
   "id": "3cc1c5da",
   "metadata": {},
   "outputs": [],
   "source": [
    "def find_c(init, eigvec_M):\n",
    "    \n",
    "    coeff = np.zeros((16))\n",
    "    \n",
    "    Matr = np.zeros((16, 16))\n",
    "        \n",
    "    for j in range(16):\n",
    "        Matr[j] = eigvec_M[:, j]\n",
    "            \n",
    "    coeff = init @ LA.inv(Matr)\n",
    "        \n",
    "    return coeff"
   ]
  },
  {
   "cell_type": "code",
   "execution_count": null,
   "id": "37f4f4c6",
   "metadata": {},
   "outputs": [],
   "source": [
    "def time_dep(t, init, eigval_M, eigvec_M):\n",
    "    P_t = np.zeros((16))\n",
    "    coeff = find_c(init, eigvec_M)\n",
    "    \n",
    "    for j in range(16):\n",
    "        P_t[j] = np.sum(np.exp(eigval_M * t) * coeff @ eigvec_M[j, :])\n",
    "        \n",
    "        \n",
    "    return P_t       "
   ]
  },
  {
   "cell_type": "code",
   "execution_count": null,
   "id": "644b822a",
   "metadata": {},
   "outputs": [],
   "source": [
    "eigval_M, eigvec_M = eig_M(Steady_M)"
   ]
  },
  {
   "cell_type": "code",
   "execution_count": null,
   "id": "8044aebf",
   "metadata": {},
   "outputs": [],
   "source": [
    "for j in range(16):\n",
    "    plt.scatter(phi_0/np.pi, eigval_M[:, j], s=5)"
   ]
  },
  {
   "cell_type": "code",
   "execution_count": null,
   "id": "1b612dcb",
   "metadata": {},
   "outputs": [],
   "source": [
    "ns = np.zeros((len(phi_0), 16), dtype='float64')\n",
    "\n",
    "for i in range(len(phi_0)):\n",
    "    ns[i] = null_space(Steady_M[i], rcond=10e-16)[:,0]\n",
    "    \n",
    "steady_occup = ns\n",
    "steady_occup /= np.sum(steady_occup, axis=1, keepdims=True)"
   ]
  },
  {
   "cell_type": "code",
   "execution_count": null,
   "id": "52de48a1",
   "metadata": {},
   "outputs": [],
   "source": [
    "# note here the numbering of states:\n",
    "\n",
    "#   1  ----------    ----------  3  \n",
    "#   0  ----------    ----------  2 \n",
    "\n",
    "# ----------------------------------\n",
    "\n",
    "for i in range(N_state):\n",
    "    print(nf_h[i], '\\t', steady_occup[51, i])"
   ]
  },
  {
   "cell_type": "code",
   "execution_count": null,
   "id": "4d003d04",
   "metadata": {},
   "outputs": [],
   "source": [
    "plt.plot(phi_0/np.pi, steady_occup[:, 0], label=r'$P_0$')\n",
    "plt.plot(phi_0/np.pi, steady_occup[:, 1], label=r'$P_1$')\n",
    "plt.plot(phi_0/np.pi, steady_occup[:, 2], label=r'$P_2$')\n",
    "plt.plot(phi_0/np.pi, steady_occup[:, 3], label=r'$P_3$')\n",
    "plt.plot(phi_0/np.pi, steady_occup[:, 4], label=r'$P_4$')\n",
    "plt.plot(phi_0/np.pi, steady_occup[:, 5], label=r'$P_5$')\n",
    "plt.plot(phi_0/np.pi, steady_occup[:, 6], label=r'$P_6$')\n",
    "\n",
    "plt.grid()\n",
    "plt.legend()"
   ]
  },
  {
   "cell_type": "markdown",
   "id": "79644bde",
   "metadata": {},
   "source": [
    "### Compue the relaxation times"
   ]
  },
  {
   "cell_type": "code",
   "execution_count": null,
   "id": "c27ee26e",
   "metadata": {},
   "outputs": [],
   "source": [
    "def rhs1(t, P, i_eq):\n",
    "\n",
    "    # find derivatives of N_state elements\n",
    "    dP = np.zeros(N_state)\n",
    "        \n",
    "    dP = Steady_M[i_eq] @ P\n",
    "        \n",
    "    return dP"
   ]
  },
  {
   "cell_type": "code",
   "execution_count": null,
   "id": "67968d82",
   "metadata": {},
   "outputs": [],
   "source": [
    "def compute_tau(i1, i2):\n",
    "    \n",
    "    P0 = steady_occup[i1]\n",
    "    sol_ = solve_ivp(rhs1, (0.0, 1e13), P0, method='LSODA', dense_output=True, args=(i2,))\n",
    "    ts_ = sol_.t\n",
    "    ys_ = np.stack(sol_.y)\n",
    "    \n",
    "    tau = 1e10  # Default value for tau\n",
    "    for j in range(len(ts_)):\n",
    "        if np.sum(np.abs(ys_[:, j] - steady_occup[i2, :])) < 1e-3:\n",
    "            tau = ts_[j]\n",
    "            break\n",
    "            \n",
    "    return i1, i2, tau"
   ]
  },
  {
   "cell_type": "code",
   "execution_count": null,
   "id": "2ae126e3",
   "metadata": {},
   "outputs": [],
   "source": [
    "tau_arr = np.zeros((len(phi_0), len(phi_0)))\n",
    "\n",
    "# Parallel execution\n",
    "with ProcessPoolExecutor() as executor:\n",
    "    # Submit tasks for all (i1, i2) pairs\n",
    "    futures = [executor.submit(compute_tau, i1, i2) for i1 in range(len(phi_0)) for i2 in range(len(phi_0))]\n",
    "    \n",
    "    # Collect results and populate tau_arr\n",
    "    for future in futures:\n",
    "        i1, i2, tau = future.result()\n",
    "        tau_arr[i1, i2] = tau\n",
    "\n",
    "# Now tau_arr contains the computed tau values"
   ]
  },
  {
   "cell_type": "code",
   "execution_count": null,
   "id": "a83ab3ff",
   "metadata": {},
   "outputs": [],
   "source": [
    "plt.imshow(tau_arr, extent=[phi_0.min()/np.pi, phi_0.max()/np.pi, phi_0.min()/np.pi, phi_0.max()/np.pi],\\\n",
    "           origin='lower', aspect='auto', cmap='turbo',)\n",
    "\n",
    "plt.colorbar(label=r'$\\tau, \\Delta$')\n",
    "plt.xlabel(r'$\\varphi_{init}, \\pi$')\n",
    "plt.ylabel(r'$\\varphi_{final}, \\pi$')\n",
    "\n",
    "plt.title(r\"$L = {}\\Delta^{{-1}}, t_L = {}, t_R = {}, $\"\\\n",
    "          .format(L, t_L, t_R)+'\\n'+\n",
    "          r\"$\\Omega={}\\Delta, T_{{qp}} = {}\\Delta, T_b = {}\\Delta$\"\\\n",
    "          .format(Omega, T_ferm, T_bos), fontsize=13)\n",
    "# plt.title('Color 2D Plot of Tau Array')\n",
    "plt.show()"
   ]
  },
  {
   "cell_type": "code",
   "execution_count": null,
   "id": "01c6c101",
   "metadata": {},
   "outputs": [],
   "source": [
    "tau_arr_log = np.log10(np.maximum(tau_arr, 10))"
   ]
  },
  {
   "cell_type": "code",
   "execution_count": null,
   "id": "cbfde674",
   "metadata": {},
   "outputs": [],
   "source": [
    "plt.imshow(tau_arr_log, extent=[phi_0.min()/np.pi, phi_0.max()/np.pi, phi_0.min()/np.pi, phi_0.max()/np.pi],\n",
    "           origin='lower', aspect='auto', cmap='viridis', vmin=1)\n",
    "plt.title(r\"$L = {}\\Delta^{{-1}}, t_L = {}, t_R = {}, $\"\\\n",
    "          .format(L, t_L, t_R)+'\\n'+\n",
    "          r\"$\\Omega={}\\Delta, T_{{qp}} = {}\\Delta, T_b = {}\\Delta$\"\\\n",
    "          .format(Omega, T_ferm, T_bos), fontsize=13)\n",
    "\n",
    "cbar = plt.colorbar()\n",
    "cbar.set_label(r'$\\log_{10}(\\tau)$')  # Color bar label in log scale\n",
    "\n",
    "plt.xlabel(r'$\\varphi_{init}$')\n",
    "plt.ylabel(r'$\\varphi_{final}$')\n",
    "\n",
    "plt.show()"
   ]
  },
  {
   "cell_type": "code",
   "execution_count": null,
   "id": "d7b66a5d",
   "metadata": {},
   "outputs": [],
   "source": [
    "P0 = steady_occup[:, np.newaxis]\n",
    "init_trace_dist = np.sum(np.abs(P0 - steady_occup), axis=2)"
   ]
  },
  {
   "cell_type": "code",
   "execution_count": null,
   "id": "536fb038",
   "metadata": {},
   "outputs": [],
   "source": [
    "plt.imshow(init_trace_dist, extent=[phi_0.min()/np.pi, phi_0.max()/np.pi, phi_0.min()/np.pi, phi_0.max()/np.pi],\n",
    "           origin='lower', aspect='auto', cmap='jet', vmin=0)\n",
    "plt.title(r\"$L = {}\\Delta^{{-1}}, t_L = {}, t_R = {}, $\"\\\n",
    "          .format(L, t_L, t_R)+'\\n'+\n",
    "          r\"$\\Omega={}\\Delta, T_{{qp}} = {}\\Delta, T_b = {}\\Delta$\"\\\n",
    "          .format(Omega, T_ferm, T_bos), fontsize=13)\n",
    "\n",
    "cbar = plt.colorbar()\n",
    "cbar.set_label(r'$\\mathcal{D}_T(0)$')  # Color bar label in log scale\n",
    "\n",
    "plt.xlabel(r'$\\varphi_{init}, \\pi$')\n",
    "plt.ylabel(r'$\\varphi_{final}, \\pi$')\n",
    "\n",
    "plt.show()"
   ]
  },
  {
   "cell_type": "markdown",
   "id": "d2f8c92f",
   "metadata": {},
   "source": [
    "### Compute the time evolution of the trace distance"
   ]
  },
  {
   "cell_type": "code",
   "execution_count": null,
   "id": "9428d798",
   "metadata": {},
   "outputs": [],
   "source": [
    "# Helper function to compute trace distance for each (i1, i2) pair\n",
    "\n",
    "def compute_trace_distance(i1, i2, phi_0, steady_occup):\n",
    "    \n",
    "    P0 = steady_occup[i1]\n",
    "    sol_ = solve_ivp(rhs1, (0.0, 1.5e5), P0, method='LSODA', dense_output=True, args=(i2,))\n",
    "    \n",
    "    ts_ = sol_.t\n",
    "    ys_ = np.stack(sol_.y)\n",
    "    \n",
    "    steady_reshaped = np.tile(steady_occup[i2, :, np.newaxis], (1, len(ts_)))\n",
    "    trace_distance = np.sum(np.abs(ys_ - steady_reshaped), axis=0)\n",
    "    \n",
    "    return i1, i2, trace_distance, ts_"
   ]
  },
  {
   "cell_type": "code",
   "execution_count": null,
   "id": "973f3527",
   "metadata": {},
   "outputs": [],
   "source": [
    "# Initialize trace_dist with the correct shape (assuming it's a 2D array)\n",
    "\n",
    "trace_dist = np.zeros((len(phi_0), len(phi_0)), dtype=object)\n",
    "time = np.zeros((len(phi_0), len(phi_0)), dtype=object)"
   ]
  },
  {
   "cell_type": "code",
   "execution_count": null,
   "id": "ff85d901",
   "metadata": {},
   "outputs": [],
   "source": [
    "# Use ProcessPoolExecutor to parallelize the computation\n",
    "\n",
    "with ProcessPoolExecutor() as executor:\n",
    "    futures = [\n",
    "        executor.submit(compute_trace_distance, i1, i2, phi_0, steady_occup)\n",
    "        for i1 in range(len(phi_0))\n",
    "        for i2 in range(len(phi_0))\n",
    "    ]\n",
    "    for future in futures:\n",
    "        i1, i2, trace_distance, ts_ = future.result()\n",
    "        trace_dist[i1][i2] = trace_distance\n",
    "        time[i1][i2] = ts_        "
   ]
  },
  {
   "cell_type": "code",
   "execution_count": null,
   "id": "9f9330b4",
   "metadata": {},
   "outputs": [],
   "source": [
    "plt.plot(time[20][38], trace_dist[20][38])\n",
    "plt.plot(time[20][26], trace_dist[20][26])\n",
    "plt.plot(time[20][24], trace_dist[20][24])\n",
    "\n",
    "plt.yscale('log')\n",
    "\n",
    "\n",
    "plt.grid()"
   ]
  },
  {
   "cell_type": "code",
   "execution_count": null,
   "id": "04eda276",
   "metadata": {},
   "outputs": [],
   "source": [
    "time_test = np.linspace(1, 1.5e5, num=5000)\n",
    "P_t = np.zeros((len(time_test), 16))\n",
    "P_t1 = np.zeros((len(time_test), 16))\n",
    "P_t2 = np.zeros_like(P_t)"
   ]
  },
  {
   "cell_type": "code",
   "execution_count": null,
   "id": "b4006c75",
   "metadata": {},
   "outputs": [],
   "source": [
    "for t in range(len(time_test)):\n",
    "    P_t[t] = time_dep(time_test[t], steady_occup[20], eigval_M[26], eigvec_M[26])\n",
    "    P_t1[t] = time_dep(time_test[t], steady_occup[20], eigval_M[38], eigvec_M[38])\n",
    "    P_t2[t] = time_dep(time_test[t], steady_occup[20], eigval_M[24], eigvec_M[24])    "
   ]
  },
  {
   "cell_type": "code",
   "execution_count": null,
   "id": "00eea279",
   "metadata": {},
   "outputs": [],
   "source": [
    "plt.plot(time_test, np.sum(np.abs(P_t2-steady_occup[24]), axis=1), label=r'$\\varphi_i = ${}, $\\varphi_f = ${}'.\\\n",
    "         format(phi_0[20]/np.pi, np.round(phi_0[24]/np.pi, 2)))\n",
    "plt.plot(time_test, np.sum(np.abs(P_t-steady_occup[26]), axis=1), label=r'$\\varphi_i = ${}, $\\varphi_f = ${}'.\\\n",
    "         format(phi_0[20]/np.pi, np.round(phi_0[26]/np.pi, 2)))\n",
    "plt.plot(time_test, np.sum(np.abs(P_t1-steady_occup[38]), axis=1), label=r'$\\varphi_i = ${}, $\\varphi_f = ${}'.\\\n",
    "         format(phi_0[20]/np.pi, np.round(phi_0[38]/np.pi, 2)))\n",
    "\n",
    "\n",
    "\n",
    "\n",
    "plt.title(r\"$L = {}\\Delta^{{-1}}, t_L = {}, t_R = {}, $\"\\\n",
    "          .format(L, t_L, t_R)+'\\n'+\n",
    "          r\"$\\Omega={}\\Delta, T_{{qp}} = {}\\Delta, T_b = {}\\Delta$\"\\\n",
    "          .format(Omega, T_ferm, T_bos), fontsize=13)\n",
    "\n",
    "\n",
    "plt.ylabel(r'$\\mathcal{D}_T(t)$')\n",
    "plt.legend()\n",
    "plt.yscale('log')\n",
    "\n",
    "# plt.xlim(-1000, 3e4)\n",
    "plt.grid()"
   ]
  }
 ],
 "metadata": {
  "kernelspec": {
   "display_name": "Python 3 (ipykernel)",
   "language": "python",
   "name": "python3"
  },
  "language_info": {
   "codemirror_mode": {
    "name": "ipython",
    "version": 3
   },
   "file_extension": ".py",
   "mimetype": "text/x-python",
   "name": "python",
   "nbconvert_exporter": "python",
   "pygments_lexer": "ipython3",
   "version": "3.10.9"
  }
 },
 "nbformat": 4,
 "nbformat_minor": 5
}
